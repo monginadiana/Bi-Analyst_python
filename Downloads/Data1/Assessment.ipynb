{
  "nbformat": 4,
  "nbformat_minor": 0,
  "metadata": {
    "colab": {
      "provenance": []
    },
    "kernelspec": {
      "name": "python3",
      "display_name": "Python 3"
    },
    "language_info": {
      "name": "python"
    }
  },
  "cells": [
    {
      "cell_type": "code",
      "execution_count": null,
      "metadata": {
        "id": "UygJOm6N5n7Z"
      },
      "outputs": [],
      "source": [
        "import numpy as np\n",
        "import pandas as pd\n",
        "import matplotlib.pyplot as plt\n",
        "import seaborn as sns"
      ]
    },
    {
      "cell_type": "markdown",
      "source": [
        "# Prerequisites\n"
      ],
      "metadata": {
        "id": "FPa-xCIKcW0T"
      }
    },
    {
      "cell_type": "code",
      "source": [
        "df = pd.read_excel(\"/content/Assignment Data.xlsx\", sheet_name=0)"
      ],
      "metadata": {
        "id": "hApJa0fw62hO"
      },
      "execution_count": null,
      "outputs": []
    },
    {
      "cell_type": "code",
      "source": [
        "df.head()"
      ],
      "metadata": {
        "colab": {
          "base_uri": "https://localhost:8080/",
          "height": 270
        },
        "id": "i8QntZgA7K99",
        "outputId": "9cb58fac-9675-4e5a-cdb6-0d193d0efa56"
      },
      "execution_count": null,
      "outputs": [
        {
          "output_type": "execute_result",
          "data": {
            "text/plain": [
              "      hed__Contact__c  mor_Attendance_Score__c  IP_Grade_Average__c  \\\n",
              "0  0034K00000B8uNfQAJ                      NaN                 0.00   \n",
              "1  0034K000009yICAQA2                      NaN                 0.00   \n",
              "2  0034K00000BAy3UQAT                    100.0                98.61   \n",
              "3  0034K00000B8gOLQAZ                      NaN                 0.00   \n",
              "4  0034K00000B8gOlQAJ                      NaN                 0.00   \n",
              "\n",
              "   mor_Total_Activity_Time__c  Participations_Level__c  Page_Views_Level__c  \\\n",
              "0                         NaN                      NaN                  NaN   \n",
              "1                         0.0                      NaN                  NaN   \n",
              "2                   1158852.0                      2.0                  3.0   \n",
              "3                     31315.0                      NaN                  NaN   \n",
              "4                      1150.0                      NaN                  NaN   \n",
              "\n",
              "  hed__Course_Offering__c  Prerequisite_Course_Connection__c  \n",
              "0      a0R4K000001ynYnUAI                                NaN  \n",
              "1      a0R4K000001ynYnUAI                                NaN  \n",
              "2      a0R4K000001ynYnUAI                                NaN  \n",
              "3      a0R4K000001ynYnUAI                                NaN  \n",
              "4      a0R4K000001ynYnUAI                                NaN  "
            ],
            "text/html": [
              "\n",
              "  <div id=\"df-52f391b7-ecc4-4454-94a6-b711eb9a9f97\">\n",
              "    <div class=\"colab-df-container\">\n",
              "      <div>\n",
              "<style scoped>\n",
              "    .dataframe tbody tr th:only-of-type {\n",
              "        vertical-align: middle;\n",
              "    }\n",
              "\n",
              "    .dataframe tbody tr th {\n",
              "        vertical-align: top;\n",
              "    }\n",
              "\n",
              "    .dataframe thead th {\n",
              "        text-align: right;\n",
              "    }\n",
              "</style>\n",
              "<table border=\"1\" class=\"dataframe\">\n",
              "  <thead>\n",
              "    <tr style=\"text-align: right;\">\n",
              "      <th></th>\n",
              "      <th>hed__Contact__c</th>\n",
              "      <th>mor_Attendance_Score__c</th>\n",
              "      <th>IP_Grade_Average__c</th>\n",
              "      <th>mor_Total_Activity_Time__c</th>\n",
              "      <th>Participations_Level__c</th>\n",
              "      <th>Page_Views_Level__c</th>\n",
              "      <th>hed__Course_Offering__c</th>\n",
              "      <th>Prerequisite_Course_Connection__c</th>\n",
              "    </tr>\n",
              "  </thead>\n",
              "  <tbody>\n",
              "    <tr>\n",
              "      <th>0</th>\n",
              "      <td>0034K00000B8uNfQAJ</td>\n",
              "      <td>NaN</td>\n",
              "      <td>0.00</td>\n",
              "      <td>NaN</td>\n",
              "      <td>NaN</td>\n",
              "      <td>NaN</td>\n",
              "      <td>a0R4K000001ynYnUAI</td>\n",
              "      <td>NaN</td>\n",
              "    </tr>\n",
              "    <tr>\n",
              "      <th>1</th>\n",
              "      <td>0034K000009yICAQA2</td>\n",
              "      <td>NaN</td>\n",
              "      <td>0.00</td>\n",
              "      <td>0.0</td>\n",
              "      <td>NaN</td>\n",
              "      <td>NaN</td>\n",
              "      <td>a0R4K000001ynYnUAI</td>\n",
              "      <td>NaN</td>\n",
              "    </tr>\n",
              "    <tr>\n",
              "      <th>2</th>\n",
              "      <td>0034K00000BAy3UQAT</td>\n",
              "      <td>100.0</td>\n",
              "      <td>98.61</td>\n",
              "      <td>1158852.0</td>\n",
              "      <td>2.0</td>\n",
              "      <td>3.0</td>\n",
              "      <td>a0R4K000001ynYnUAI</td>\n",
              "      <td>NaN</td>\n",
              "    </tr>\n",
              "    <tr>\n",
              "      <th>3</th>\n",
              "      <td>0034K00000B8gOLQAZ</td>\n",
              "      <td>NaN</td>\n",
              "      <td>0.00</td>\n",
              "      <td>31315.0</td>\n",
              "      <td>NaN</td>\n",
              "      <td>NaN</td>\n",
              "      <td>a0R4K000001ynYnUAI</td>\n",
              "      <td>NaN</td>\n",
              "    </tr>\n",
              "    <tr>\n",
              "      <th>4</th>\n",
              "      <td>0034K00000B8gOlQAJ</td>\n",
              "      <td>NaN</td>\n",
              "      <td>0.00</td>\n",
              "      <td>1150.0</td>\n",
              "      <td>NaN</td>\n",
              "      <td>NaN</td>\n",
              "      <td>a0R4K000001ynYnUAI</td>\n",
              "      <td>NaN</td>\n",
              "    </tr>\n",
              "  </tbody>\n",
              "</table>\n",
              "</div>\n",
              "      <button class=\"colab-df-convert\" onclick=\"convertToInteractive('df-52f391b7-ecc4-4454-94a6-b711eb9a9f97')\"\n",
              "              title=\"Convert this dataframe to an interactive table.\"\n",
              "              style=\"display:none;\">\n",
              "        \n",
              "  <svg xmlns=\"http://www.w3.org/2000/svg\" height=\"24px\"viewBox=\"0 0 24 24\"\n",
              "       width=\"24px\">\n",
              "    <path d=\"M0 0h24v24H0V0z\" fill=\"none\"/>\n",
              "    <path d=\"M18.56 5.44l.94 2.06.94-2.06 2.06-.94-2.06-.94-.94-2.06-.94 2.06-2.06.94zm-11 1L8.5 8.5l.94-2.06 2.06-.94-2.06-.94L8.5 2.5l-.94 2.06-2.06.94zm10 10l.94 2.06.94-2.06 2.06-.94-2.06-.94-.94-2.06-.94 2.06-2.06.94z\"/><path d=\"M17.41 7.96l-1.37-1.37c-.4-.4-.92-.59-1.43-.59-.52 0-1.04.2-1.43.59L10.3 9.45l-7.72 7.72c-.78.78-.78 2.05 0 2.83L4 21.41c.39.39.9.59 1.41.59.51 0 1.02-.2 1.41-.59l7.78-7.78 2.81-2.81c.8-.78.8-2.07 0-2.86zM5.41 20L4 18.59l7.72-7.72 1.47 1.35L5.41 20z\"/>\n",
              "  </svg>\n",
              "      </button>\n",
              "      \n",
              "  <style>\n",
              "    .colab-df-container {\n",
              "      display:flex;\n",
              "      flex-wrap:wrap;\n",
              "      gap: 12px;\n",
              "    }\n",
              "\n",
              "    .colab-df-convert {\n",
              "      background-color: #E8F0FE;\n",
              "      border: none;\n",
              "      border-radius: 50%;\n",
              "      cursor: pointer;\n",
              "      display: none;\n",
              "      fill: #1967D2;\n",
              "      height: 32px;\n",
              "      padding: 0 0 0 0;\n",
              "      width: 32px;\n",
              "    }\n",
              "\n",
              "    .colab-df-convert:hover {\n",
              "      background-color: #E2EBFA;\n",
              "      box-shadow: 0px 1px 2px rgba(60, 64, 67, 0.3), 0px 1px 3px 1px rgba(60, 64, 67, 0.15);\n",
              "      fill: #174EA6;\n",
              "    }\n",
              "\n",
              "    [theme=dark] .colab-df-convert {\n",
              "      background-color: #3B4455;\n",
              "      fill: #D2E3FC;\n",
              "    }\n",
              "\n",
              "    [theme=dark] .colab-df-convert:hover {\n",
              "      background-color: #434B5C;\n",
              "      box-shadow: 0px 1px 3px 1px rgba(0, 0, 0, 0.15);\n",
              "      filter: drop-shadow(0px 1px 2px rgba(0, 0, 0, 0.3));\n",
              "      fill: #FFFFFF;\n",
              "    }\n",
              "  </style>\n",
              "\n",
              "      <script>\n",
              "        const buttonEl =\n",
              "          document.querySelector('#df-52f391b7-ecc4-4454-94a6-b711eb9a9f97 button.colab-df-convert');\n",
              "        buttonEl.style.display =\n",
              "          google.colab.kernel.accessAllowed ? 'block' : 'none';\n",
              "\n",
              "        async function convertToInteractive(key) {\n",
              "          const element = document.querySelector('#df-52f391b7-ecc4-4454-94a6-b711eb9a9f97');\n",
              "          const dataTable =\n",
              "            await google.colab.kernel.invokeFunction('convertToInteractive',\n",
              "                                                     [key], {});\n",
              "          if (!dataTable) return;\n",
              "\n",
              "          const docLinkHtml = 'Like what you see? Visit the ' +\n",
              "            '<a target=\"_blank\" href=https://colab.research.google.com/notebooks/data_table.ipynb>data table notebook</a>'\n",
              "            + ' to learn more about interactive tables.';\n",
              "          element.innerHTML = '';\n",
              "          dataTable['output_type'] = 'display_data';\n",
              "          await google.colab.output.renderOutput(dataTable, element);\n",
              "          const docLink = document.createElement('div');\n",
              "          docLink.innerHTML = docLinkHtml;\n",
              "          element.appendChild(docLink);\n",
              "        }\n",
              "      </script>\n",
              "    </div>\n",
              "  </div>\n",
              "  "
            ]
          },
          "metadata": {},
          "execution_count": 183
        }
      ]
    },
    {
      "cell_type": "code",
      "source": [],
      "metadata": {
        "id": "otC-5UzxCXwY"
      },
      "execution_count": null,
      "outputs": []
    },
    {
      "cell_type": "code",
      "source": [
        "df.info()"
      ],
      "metadata": {
        "colab": {
          "base_uri": "https://localhost:8080/"
        },
        "id": "BA7imw7K8Xg1",
        "outputId": "42047b27-172b-44ac-e3c7-884216895b0f"
      },
      "execution_count": null,
      "outputs": [
        {
          "output_type": "stream",
          "name": "stdout",
          "text": [
            "<class 'pandas.core.frame.DataFrame'>\n",
            "RangeIndex: 141 entries, 0 to 140\n",
            "Data columns (total 8 columns):\n",
            " #   Column                             Non-Null Count  Dtype  \n",
            "---  ------                             --------------  -----  \n",
            " 0   hed__Contact__c                    141 non-null    object \n",
            " 1   mor_Attendance_Score__c            119 non-null    float64\n",
            " 2   IP_Grade_Average__c                123 non-null    float64\n",
            " 3   mor_Total_Activity_Time__c         140 non-null    float64\n",
            " 4   Participations_Level__c            117 non-null    float64\n",
            " 5   Page_Views_Level__c                117 non-null    float64\n",
            " 6   hed__Course_Offering__c            141 non-null    object \n",
            " 7   Prerequisite_Course_Connection__c  0 non-null      float64\n",
            "dtypes: float64(6), object(2)\n",
            "memory usage: 8.9+ KB\n"
          ]
        }
      ]
    },
    {
      "cell_type": "code",
      "source": [
        "data = df.rename(columns={\n",
        "    'hed__Contact__c': 'Student ID',\n",
        "    'mor_Attendance_Score__c': 'Attendance',\n",
        "    'IP_Grade_Average__c': 'IP Grade',\n",
        "    'mor_Total_Activity_Time__c': 'Total Activity',\n",
        "    'Participations_Level__c': 'Participation Level',\n",
        "    'Page_Views_Level__c': 'Page View Level',\n",
        "    'hed__Course_Offering__c': 'Module',\n",
        "    'Prerequisite_Course_Connection__c': 'Next Module'\n",
        "})"
      ],
      "metadata": {
        "id": "rl9ccOaPCeE3"
      },
      "execution_count": null,
      "outputs": []
    },
    {
      "cell_type": "code",
      "source": [
        "data.head()"
      ],
      "metadata": {
        "colab": {
          "base_uri": "https://localhost:8080/",
          "height": 206
        },
        "id": "POUWg8dKCrx9",
        "outputId": "8be141a3-1205-479a-881a-7f45a339b532"
      },
      "execution_count": null,
      "outputs": [
        {
          "output_type": "execute_result",
          "data": {
            "text/plain": [
              "           Student ID  Attendance  IP Grade  Total Activity  \\\n",
              "0  0034K00000B8uNfQAJ         NaN      0.00             NaN   \n",
              "1  0034K000009yICAQA2         NaN      0.00             0.0   \n",
              "2  0034K00000BAy3UQAT       100.0     98.61       1158852.0   \n",
              "3  0034K00000B8gOLQAZ         NaN      0.00         31315.0   \n",
              "4  0034K00000B8gOlQAJ         NaN      0.00          1150.0   \n",
              "\n",
              "   Participation Level  Page View Level              Module  Next Module  \n",
              "0                  NaN              NaN  a0R4K000001ynYnUAI          NaN  \n",
              "1                  NaN              NaN  a0R4K000001ynYnUAI          NaN  \n",
              "2                  2.0              3.0  a0R4K000001ynYnUAI          NaN  \n",
              "3                  NaN              NaN  a0R4K000001ynYnUAI          NaN  \n",
              "4                  NaN              NaN  a0R4K000001ynYnUAI          NaN  "
            ],
            "text/html": [
              "\n",
              "  <div id=\"df-fe5fbd2b-c83f-4c9d-b20d-85e719f8acae\">\n",
              "    <div class=\"colab-df-container\">\n",
              "      <div>\n",
              "<style scoped>\n",
              "    .dataframe tbody tr th:only-of-type {\n",
              "        vertical-align: middle;\n",
              "    }\n",
              "\n",
              "    .dataframe tbody tr th {\n",
              "        vertical-align: top;\n",
              "    }\n",
              "\n",
              "    .dataframe thead th {\n",
              "        text-align: right;\n",
              "    }\n",
              "</style>\n",
              "<table border=\"1\" class=\"dataframe\">\n",
              "  <thead>\n",
              "    <tr style=\"text-align: right;\">\n",
              "      <th></th>\n",
              "      <th>Student ID</th>\n",
              "      <th>Attendance</th>\n",
              "      <th>IP Grade</th>\n",
              "      <th>Total Activity</th>\n",
              "      <th>Participation Level</th>\n",
              "      <th>Page View Level</th>\n",
              "      <th>Module</th>\n",
              "      <th>Next Module</th>\n",
              "    </tr>\n",
              "  </thead>\n",
              "  <tbody>\n",
              "    <tr>\n",
              "      <th>0</th>\n",
              "      <td>0034K00000B8uNfQAJ</td>\n",
              "      <td>NaN</td>\n",
              "      <td>0.00</td>\n",
              "      <td>NaN</td>\n",
              "      <td>NaN</td>\n",
              "      <td>NaN</td>\n",
              "      <td>a0R4K000001ynYnUAI</td>\n",
              "      <td>NaN</td>\n",
              "    </tr>\n",
              "    <tr>\n",
              "      <th>1</th>\n",
              "      <td>0034K000009yICAQA2</td>\n",
              "      <td>NaN</td>\n",
              "      <td>0.00</td>\n",
              "      <td>0.0</td>\n",
              "      <td>NaN</td>\n",
              "      <td>NaN</td>\n",
              "      <td>a0R4K000001ynYnUAI</td>\n",
              "      <td>NaN</td>\n",
              "    </tr>\n",
              "    <tr>\n",
              "      <th>2</th>\n",
              "      <td>0034K00000BAy3UQAT</td>\n",
              "      <td>100.0</td>\n",
              "      <td>98.61</td>\n",
              "      <td>1158852.0</td>\n",
              "      <td>2.0</td>\n",
              "      <td>3.0</td>\n",
              "      <td>a0R4K000001ynYnUAI</td>\n",
              "      <td>NaN</td>\n",
              "    </tr>\n",
              "    <tr>\n",
              "      <th>3</th>\n",
              "      <td>0034K00000B8gOLQAZ</td>\n",
              "      <td>NaN</td>\n",
              "      <td>0.00</td>\n",
              "      <td>31315.0</td>\n",
              "      <td>NaN</td>\n",
              "      <td>NaN</td>\n",
              "      <td>a0R4K000001ynYnUAI</td>\n",
              "      <td>NaN</td>\n",
              "    </tr>\n",
              "    <tr>\n",
              "      <th>4</th>\n",
              "      <td>0034K00000B8gOlQAJ</td>\n",
              "      <td>NaN</td>\n",
              "      <td>0.00</td>\n",
              "      <td>1150.0</td>\n",
              "      <td>NaN</td>\n",
              "      <td>NaN</td>\n",
              "      <td>a0R4K000001ynYnUAI</td>\n",
              "      <td>NaN</td>\n",
              "    </tr>\n",
              "  </tbody>\n",
              "</table>\n",
              "</div>\n",
              "      <button class=\"colab-df-convert\" onclick=\"convertToInteractive('df-fe5fbd2b-c83f-4c9d-b20d-85e719f8acae')\"\n",
              "              title=\"Convert this dataframe to an interactive table.\"\n",
              "              style=\"display:none;\">\n",
              "        \n",
              "  <svg xmlns=\"http://www.w3.org/2000/svg\" height=\"24px\"viewBox=\"0 0 24 24\"\n",
              "       width=\"24px\">\n",
              "    <path d=\"M0 0h24v24H0V0z\" fill=\"none\"/>\n",
              "    <path d=\"M18.56 5.44l.94 2.06.94-2.06 2.06-.94-2.06-.94-.94-2.06-.94 2.06-2.06.94zm-11 1L8.5 8.5l.94-2.06 2.06-.94-2.06-.94L8.5 2.5l-.94 2.06-2.06.94zm10 10l.94 2.06.94-2.06 2.06-.94-2.06-.94-.94-2.06-.94 2.06-2.06.94z\"/><path d=\"M17.41 7.96l-1.37-1.37c-.4-.4-.92-.59-1.43-.59-.52 0-1.04.2-1.43.59L10.3 9.45l-7.72 7.72c-.78.78-.78 2.05 0 2.83L4 21.41c.39.39.9.59 1.41.59.51 0 1.02-.2 1.41-.59l7.78-7.78 2.81-2.81c.8-.78.8-2.07 0-2.86zM5.41 20L4 18.59l7.72-7.72 1.47 1.35L5.41 20z\"/>\n",
              "  </svg>\n",
              "      </button>\n",
              "      \n",
              "  <style>\n",
              "    .colab-df-container {\n",
              "      display:flex;\n",
              "      flex-wrap:wrap;\n",
              "      gap: 12px;\n",
              "    }\n",
              "\n",
              "    .colab-df-convert {\n",
              "      background-color: #E8F0FE;\n",
              "      border: none;\n",
              "      border-radius: 50%;\n",
              "      cursor: pointer;\n",
              "      display: none;\n",
              "      fill: #1967D2;\n",
              "      height: 32px;\n",
              "      padding: 0 0 0 0;\n",
              "      width: 32px;\n",
              "    }\n",
              "\n",
              "    .colab-df-convert:hover {\n",
              "      background-color: #E2EBFA;\n",
              "      box-shadow: 0px 1px 2px rgba(60, 64, 67, 0.3), 0px 1px 3px 1px rgba(60, 64, 67, 0.15);\n",
              "      fill: #174EA6;\n",
              "    }\n",
              "\n",
              "    [theme=dark] .colab-df-convert {\n",
              "      background-color: #3B4455;\n",
              "      fill: #D2E3FC;\n",
              "    }\n",
              "\n",
              "    [theme=dark] .colab-df-convert:hover {\n",
              "      background-color: #434B5C;\n",
              "      box-shadow: 0px 1px 3px 1px rgba(0, 0, 0, 0.15);\n",
              "      filter: drop-shadow(0px 1px 2px rgba(0, 0, 0, 0.3));\n",
              "      fill: #FFFFFF;\n",
              "    }\n",
              "  </style>\n",
              "\n",
              "      <script>\n",
              "        const buttonEl =\n",
              "          document.querySelector('#df-fe5fbd2b-c83f-4c9d-b20d-85e719f8acae button.colab-df-convert');\n",
              "        buttonEl.style.display =\n",
              "          google.colab.kernel.accessAllowed ? 'block' : 'none';\n",
              "\n",
              "        async function convertToInteractive(key) {\n",
              "          const element = document.querySelector('#df-fe5fbd2b-c83f-4c9d-b20d-85e719f8acae');\n",
              "          const dataTable =\n",
              "            await google.colab.kernel.invokeFunction('convertToInteractive',\n",
              "                                                     [key], {});\n",
              "          if (!dataTable) return;\n",
              "\n",
              "          const docLinkHtml = 'Like what you see? Visit the ' +\n",
              "            '<a target=\"_blank\" href=https://colab.research.google.com/notebooks/data_table.ipynb>data table notebook</a>'\n",
              "            + ' to learn more about interactive tables.';\n",
              "          element.innerHTML = '';\n",
              "          dataTable['output_type'] = 'display_data';\n",
              "          await google.colab.output.renderOutput(dataTable, element);\n",
              "          const docLink = document.createElement('div');\n",
              "          docLink.innerHTML = docLinkHtml;\n",
              "          element.appendChild(docLink);\n",
              "        }\n",
              "      </script>\n",
              "    </div>\n",
              "  </div>\n",
              "  "
            ]
          },
          "metadata": {},
          "execution_count": 186
        }
      ]
    },
    {
      "cell_type": "code",
      "source": [
        "# data = df.dropna(subset=['Attendance', 'IP Grade', 'Total Activity', 'Participation Level', 'Page View Level'])"
      ],
      "metadata": {
        "id": "K7bQ1MfJCk0z"
      },
      "execution_count": null,
      "outputs": []
    },
    {
      "cell_type": "code",
      "source": [
        "data.isnull().sum()"
      ],
      "metadata": {
        "colab": {
          "base_uri": "https://localhost:8080/"
        },
        "id": "b-U4OM9y88DP",
        "outputId": "a2d7eb31-248d-4113-aa50-f1602e373e6e"
      },
      "execution_count": null,
      "outputs": [
        {
          "output_type": "execute_result",
          "data": {
            "text/plain": [
              "Student ID               0\n",
              "Attendance              22\n",
              "IP Grade                18\n",
              "Total Activity           1\n",
              "Participation Level     24\n",
              "Page View Level         24\n",
              "Module                   0\n",
              "Next Module            141\n",
              "dtype: int64"
            ]
          },
          "metadata": {},
          "execution_count": 188
        }
      ]
    },
    {
      "cell_type": "code",
      "source": [
        "data.isnull().sum() / len(data)*100"
      ],
      "metadata": {
        "colab": {
          "base_uri": "https://localhost:8080/"
        },
        "id": "P1ffanZv9TbO",
        "outputId": "9f768ca7-e0f0-48df-fee9-120e6282de90"
      },
      "execution_count": null,
      "outputs": [
        {
          "output_type": "execute_result",
          "data": {
            "text/plain": [
              "Student ID               0.000000\n",
              "Attendance              15.602837\n",
              "IP Grade                12.765957\n",
              "Total Activity           0.709220\n",
              "Participation Level     17.021277\n",
              "Page View Level         17.021277\n",
              "Module                   0.000000\n",
              "Next Module            100.000000\n",
              "dtype: float64"
            ]
          },
          "metadata": {},
          "execution_count": 189
        }
      ]
    },
    {
      "cell_type": "code",
      "source": [
        "data.head()"
      ],
      "metadata": {
        "colab": {
          "base_uri": "https://localhost:8080/",
          "height": 206
        },
        "id": "4g5x9coS9qUb",
        "outputId": "949789ec-e5ea-4ccc-b1cf-ed7829cddda0"
      },
      "execution_count": null,
      "outputs": [
        {
          "output_type": "execute_result",
          "data": {
            "text/plain": [
              "           Student ID  Attendance  IP Grade  Total Activity  \\\n",
              "0  0034K00000B8uNfQAJ         NaN      0.00             NaN   \n",
              "1  0034K000009yICAQA2         NaN      0.00             0.0   \n",
              "2  0034K00000BAy3UQAT       100.0     98.61       1158852.0   \n",
              "3  0034K00000B8gOLQAZ         NaN      0.00         31315.0   \n",
              "4  0034K00000B8gOlQAJ         NaN      0.00          1150.0   \n",
              "\n",
              "   Participation Level  Page View Level              Module  Next Module  \n",
              "0                  NaN              NaN  a0R4K000001ynYnUAI          NaN  \n",
              "1                  NaN              NaN  a0R4K000001ynYnUAI          NaN  \n",
              "2                  2.0              3.0  a0R4K000001ynYnUAI          NaN  \n",
              "3                  NaN              NaN  a0R4K000001ynYnUAI          NaN  \n",
              "4                  NaN              NaN  a0R4K000001ynYnUAI          NaN  "
            ],
            "text/html": [
              "\n",
              "  <div id=\"df-c089de06-90af-4b83-b159-bdd7dde261b9\">\n",
              "    <div class=\"colab-df-container\">\n",
              "      <div>\n",
              "<style scoped>\n",
              "    .dataframe tbody tr th:only-of-type {\n",
              "        vertical-align: middle;\n",
              "    }\n",
              "\n",
              "    .dataframe tbody tr th {\n",
              "        vertical-align: top;\n",
              "    }\n",
              "\n",
              "    .dataframe thead th {\n",
              "        text-align: right;\n",
              "    }\n",
              "</style>\n",
              "<table border=\"1\" class=\"dataframe\">\n",
              "  <thead>\n",
              "    <tr style=\"text-align: right;\">\n",
              "      <th></th>\n",
              "      <th>Student ID</th>\n",
              "      <th>Attendance</th>\n",
              "      <th>IP Grade</th>\n",
              "      <th>Total Activity</th>\n",
              "      <th>Participation Level</th>\n",
              "      <th>Page View Level</th>\n",
              "      <th>Module</th>\n",
              "      <th>Next Module</th>\n",
              "    </tr>\n",
              "  </thead>\n",
              "  <tbody>\n",
              "    <tr>\n",
              "      <th>0</th>\n",
              "      <td>0034K00000B8uNfQAJ</td>\n",
              "      <td>NaN</td>\n",
              "      <td>0.00</td>\n",
              "      <td>NaN</td>\n",
              "      <td>NaN</td>\n",
              "      <td>NaN</td>\n",
              "      <td>a0R4K000001ynYnUAI</td>\n",
              "      <td>NaN</td>\n",
              "    </tr>\n",
              "    <tr>\n",
              "      <th>1</th>\n",
              "      <td>0034K000009yICAQA2</td>\n",
              "      <td>NaN</td>\n",
              "      <td>0.00</td>\n",
              "      <td>0.0</td>\n",
              "      <td>NaN</td>\n",
              "      <td>NaN</td>\n",
              "      <td>a0R4K000001ynYnUAI</td>\n",
              "      <td>NaN</td>\n",
              "    </tr>\n",
              "    <tr>\n",
              "      <th>2</th>\n",
              "      <td>0034K00000BAy3UQAT</td>\n",
              "      <td>100.0</td>\n",
              "      <td>98.61</td>\n",
              "      <td>1158852.0</td>\n",
              "      <td>2.0</td>\n",
              "      <td>3.0</td>\n",
              "      <td>a0R4K000001ynYnUAI</td>\n",
              "      <td>NaN</td>\n",
              "    </tr>\n",
              "    <tr>\n",
              "      <th>3</th>\n",
              "      <td>0034K00000B8gOLQAZ</td>\n",
              "      <td>NaN</td>\n",
              "      <td>0.00</td>\n",
              "      <td>31315.0</td>\n",
              "      <td>NaN</td>\n",
              "      <td>NaN</td>\n",
              "      <td>a0R4K000001ynYnUAI</td>\n",
              "      <td>NaN</td>\n",
              "    </tr>\n",
              "    <tr>\n",
              "      <th>4</th>\n",
              "      <td>0034K00000B8gOlQAJ</td>\n",
              "      <td>NaN</td>\n",
              "      <td>0.00</td>\n",
              "      <td>1150.0</td>\n",
              "      <td>NaN</td>\n",
              "      <td>NaN</td>\n",
              "      <td>a0R4K000001ynYnUAI</td>\n",
              "      <td>NaN</td>\n",
              "    </tr>\n",
              "  </tbody>\n",
              "</table>\n",
              "</div>\n",
              "      <button class=\"colab-df-convert\" onclick=\"convertToInteractive('df-c089de06-90af-4b83-b159-bdd7dde261b9')\"\n",
              "              title=\"Convert this dataframe to an interactive table.\"\n",
              "              style=\"display:none;\">\n",
              "        \n",
              "  <svg xmlns=\"http://www.w3.org/2000/svg\" height=\"24px\"viewBox=\"0 0 24 24\"\n",
              "       width=\"24px\">\n",
              "    <path d=\"M0 0h24v24H0V0z\" fill=\"none\"/>\n",
              "    <path d=\"M18.56 5.44l.94 2.06.94-2.06 2.06-.94-2.06-.94-.94-2.06-.94 2.06-2.06.94zm-11 1L8.5 8.5l.94-2.06 2.06-.94-2.06-.94L8.5 2.5l-.94 2.06-2.06.94zm10 10l.94 2.06.94-2.06 2.06-.94-2.06-.94-.94-2.06-.94 2.06-2.06.94z\"/><path d=\"M17.41 7.96l-1.37-1.37c-.4-.4-.92-.59-1.43-.59-.52 0-1.04.2-1.43.59L10.3 9.45l-7.72 7.72c-.78.78-.78 2.05 0 2.83L4 21.41c.39.39.9.59 1.41.59.51 0 1.02-.2 1.41-.59l7.78-7.78 2.81-2.81c.8-.78.8-2.07 0-2.86zM5.41 20L4 18.59l7.72-7.72 1.47 1.35L5.41 20z\"/>\n",
              "  </svg>\n",
              "      </button>\n",
              "      \n",
              "  <style>\n",
              "    .colab-df-container {\n",
              "      display:flex;\n",
              "      flex-wrap:wrap;\n",
              "      gap: 12px;\n",
              "    }\n",
              "\n",
              "    .colab-df-convert {\n",
              "      background-color: #E8F0FE;\n",
              "      border: none;\n",
              "      border-radius: 50%;\n",
              "      cursor: pointer;\n",
              "      display: none;\n",
              "      fill: #1967D2;\n",
              "      height: 32px;\n",
              "      padding: 0 0 0 0;\n",
              "      width: 32px;\n",
              "    }\n",
              "\n",
              "    .colab-df-convert:hover {\n",
              "      background-color: #E2EBFA;\n",
              "      box-shadow: 0px 1px 2px rgba(60, 64, 67, 0.3), 0px 1px 3px 1px rgba(60, 64, 67, 0.15);\n",
              "      fill: #174EA6;\n",
              "    }\n",
              "\n",
              "    [theme=dark] .colab-df-convert {\n",
              "      background-color: #3B4455;\n",
              "      fill: #D2E3FC;\n",
              "    }\n",
              "\n",
              "    [theme=dark] .colab-df-convert:hover {\n",
              "      background-color: #434B5C;\n",
              "      box-shadow: 0px 1px 3px 1px rgba(0, 0, 0, 0.15);\n",
              "      filter: drop-shadow(0px 1px 2px rgba(0, 0, 0, 0.3));\n",
              "      fill: #FFFFFF;\n",
              "    }\n",
              "  </style>\n",
              "\n",
              "      <script>\n",
              "        const buttonEl =\n",
              "          document.querySelector('#df-c089de06-90af-4b83-b159-bdd7dde261b9 button.colab-df-convert');\n",
              "        buttonEl.style.display =\n",
              "          google.colab.kernel.accessAllowed ? 'block' : 'none';\n",
              "\n",
              "        async function convertToInteractive(key) {\n",
              "          const element = document.querySelector('#df-c089de06-90af-4b83-b159-bdd7dde261b9');\n",
              "          const dataTable =\n",
              "            await google.colab.kernel.invokeFunction('convertToInteractive',\n",
              "                                                     [key], {});\n",
              "          if (!dataTable) return;\n",
              "\n",
              "          const docLinkHtml = 'Like what you see? Visit the ' +\n",
              "            '<a target=\"_blank\" href=https://colab.research.google.com/notebooks/data_table.ipynb>data table notebook</a>'\n",
              "            + ' to learn more about interactive tables.';\n",
              "          element.innerHTML = '';\n",
              "          dataTable['output_type'] = 'display_data';\n",
              "          await google.colab.output.renderOutput(dataTable, element);\n",
              "          const docLink = document.createElement('div');\n",
              "          docLink.innerHTML = docLinkHtml;\n",
              "          element.appendChild(docLink);\n",
              "        }\n",
              "      </script>\n",
              "    </div>\n",
              "  </div>\n",
              "  "
            ]
          },
          "metadata": {},
          "execution_count": 190
        }
      ]
    },
    {
      "cell_type": "code",
      "source": [
        "data.columns\n"
      ],
      "metadata": {
        "colab": {
          "base_uri": "https://localhost:8080/"
        },
        "id": "LHdb1YXg-Fk3",
        "outputId": "682cf274-64a6-4c8d-f0a5-a64a529449f3"
      },
      "execution_count": null,
      "outputs": [
        {
          "output_type": "execute_result",
          "data": {
            "text/plain": [
              "Index(['Student ID', 'Attendance', 'IP Grade', 'Total Activity',\n",
              "       'Participation Level', 'Page View Level', 'Module', 'Next Module'],\n",
              "      dtype='object')"
            ]
          },
          "metadata": {},
          "execution_count": 191
        }
      ]
    },
    {
      "cell_type": "code",
      "source": [
        "data=data.dropna(subset='Attendance')\n",
        "data.isnull().sum() / len(data)*100\n"
      ],
      "metadata": {
        "colab": {
          "base_uri": "https://localhost:8080/"
        },
        "id": "fcL3QY1v981v",
        "outputId": "50da0ba3-63ea-4012-fcc2-5ea68ee6d317"
      },
      "execution_count": null,
      "outputs": [
        {
          "output_type": "execute_result",
          "data": {
            "text/plain": [
              "Student ID               0.000000\n",
              "Attendance               0.000000\n",
              "IP Grade                 0.000000\n",
              "Total Activity           0.000000\n",
              "Participation Level      1.680672\n",
              "Page View Level          1.680672\n",
              "Module                   0.000000\n",
              "Next Module            100.000000\n",
              "dtype: float64"
            ]
          },
          "metadata": {},
          "execution_count": 192
        }
      ]
    },
    {
      "cell_type": "code",
      "source": [
        "data = data.dropna(subset=['Attendance', 'IP Grade', 'Total Activity', 'Participation Level', 'Page View Level'])\n",
        "data.head()"
      ],
      "metadata": {
        "colab": {
          "base_uri": "https://localhost:8080/",
          "height": 206
        },
        "id": "nmoCR2gTDyrN",
        "outputId": "949ba355-e887-4783-a528-a599995bc9b6"
      },
      "execution_count": null,
      "outputs": [
        {
          "output_type": "execute_result",
          "data": {
            "text/plain": [
              "            Student ID  Attendance  IP Grade  Total Activity  \\\n",
              "2   0034K00000BAy3UQAT       100.0   98.6100       1158852.0   \n",
              "5   0034K00000B8gOCQAZ       100.0    0.0000             0.0   \n",
              "6   0034K000009yF7xQAE        86.0   83.1725         77853.0   \n",
              "10  0034K00000AAqD5QAL        95.0   67.2400        139562.0   \n",
              "11  0034K00000BAy34QAD       100.0   89.5075       1071090.0   \n",
              "\n",
              "    Participation Level  Page View Level              Module  Next Module  \n",
              "2                   2.0              3.0  a0R4K000001ynYnUAI          NaN  \n",
              "5                   0.0              1.0  a0R4K000001ynYnUAI          NaN  \n",
              "6                   2.0              1.0  a0R4K000001ynYnUAI          NaN  \n",
              "10                  2.0              2.0  a0R4K000001ynYnUAI          NaN  \n",
              "11                  2.0              3.0  a0R4K000001ynYnUAI          NaN  "
            ],
            "text/html": [
              "\n",
              "  <div id=\"df-0bdc86d3-8580-4809-b978-9029c75ee1f2\">\n",
              "    <div class=\"colab-df-container\">\n",
              "      <div>\n",
              "<style scoped>\n",
              "    .dataframe tbody tr th:only-of-type {\n",
              "        vertical-align: middle;\n",
              "    }\n",
              "\n",
              "    .dataframe tbody tr th {\n",
              "        vertical-align: top;\n",
              "    }\n",
              "\n",
              "    .dataframe thead th {\n",
              "        text-align: right;\n",
              "    }\n",
              "</style>\n",
              "<table border=\"1\" class=\"dataframe\">\n",
              "  <thead>\n",
              "    <tr style=\"text-align: right;\">\n",
              "      <th></th>\n",
              "      <th>Student ID</th>\n",
              "      <th>Attendance</th>\n",
              "      <th>IP Grade</th>\n",
              "      <th>Total Activity</th>\n",
              "      <th>Participation Level</th>\n",
              "      <th>Page View Level</th>\n",
              "      <th>Module</th>\n",
              "      <th>Next Module</th>\n",
              "    </tr>\n",
              "  </thead>\n",
              "  <tbody>\n",
              "    <tr>\n",
              "      <th>2</th>\n",
              "      <td>0034K00000BAy3UQAT</td>\n",
              "      <td>100.0</td>\n",
              "      <td>98.6100</td>\n",
              "      <td>1158852.0</td>\n",
              "      <td>2.0</td>\n",
              "      <td>3.0</td>\n",
              "      <td>a0R4K000001ynYnUAI</td>\n",
              "      <td>NaN</td>\n",
              "    </tr>\n",
              "    <tr>\n",
              "      <th>5</th>\n",
              "      <td>0034K00000B8gOCQAZ</td>\n",
              "      <td>100.0</td>\n",
              "      <td>0.0000</td>\n",
              "      <td>0.0</td>\n",
              "      <td>0.0</td>\n",
              "      <td>1.0</td>\n",
              "      <td>a0R4K000001ynYnUAI</td>\n",
              "      <td>NaN</td>\n",
              "    </tr>\n",
              "    <tr>\n",
              "      <th>6</th>\n",
              "      <td>0034K000009yF7xQAE</td>\n",
              "      <td>86.0</td>\n",
              "      <td>83.1725</td>\n",
              "      <td>77853.0</td>\n",
              "      <td>2.0</td>\n",
              "      <td>1.0</td>\n",
              "      <td>a0R4K000001ynYnUAI</td>\n",
              "      <td>NaN</td>\n",
              "    </tr>\n",
              "    <tr>\n",
              "      <th>10</th>\n",
              "      <td>0034K00000AAqD5QAL</td>\n",
              "      <td>95.0</td>\n",
              "      <td>67.2400</td>\n",
              "      <td>139562.0</td>\n",
              "      <td>2.0</td>\n",
              "      <td>2.0</td>\n",
              "      <td>a0R4K000001ynYnUAI</td>\n",
              "      <td>NaN</td>\n",
              "    </tr>\n",
              "    <tr>\n",
              "      <th>11</th>\n",
              "      <td>0034K00000BAy34QAD</td>\n",
              "      <td>100.0</td>\n",
              "      <td>89.5075</td>\n",
              "      <td>1071090.0</td>\n",
              "      <td>2.0</td>\n",
              "      <td>3.0</td>\n",
              "      <td>a0R4K000001ynYnUAI</td>\n",
              "      <td>NaN</td>\n",
              "    </tr>\n",
              "  </tbody>\n",
              "</table>\n",
              "</div>\n",
              "      <button class=\"colab-df-convert\" onclick=\"convertToInteractive('df-0bdc86d3-8580-4809-b978-9029c75ee1f2')\"\n",
              "              title=\"Convert this dataframe to an interactive table.\"\n",
              "              style=\"display:none;\">\n",
              "        \n",
              "  <svg xmlns=\"http://www.w3.org/2000/svg\" height=\"24px\"viewBox=\"0 0 24 24\"\n",
              "       width=\"24px\">\n",
              "    <path d=\"M0 0h24v24H0V0z\" fill=\"none\"/>\n",
              "    <path d=\"M18.56 5.44l.94 2.06.94-2.06 2.06-.94-2.06-.94-.94-2.06-.94 2.06-2.06.94zm-11 1L8.5 8.5l.94-2.06 2.06-.94-2.06-.94L8.5 2.5l-.94 2.06-2.06.94zm10 10l.94 2.06.94-2.06 2.06-.94-2.06-.94-.94-2.06-.94 2.06-2.06.94z\"/><path d=\"M17.41 7.96l-1.37-1.37c-.4-.4-.92-.59-1.43-.59-.52 0-1.04.2-1.43.59L10.3 9.45l-7.72 7.72c-.78.78-.78 2.05 0 2.83L4 21.41c.39.39.9.59 1.41.59.51 0 1.02-.2 1.41-.59l7.78-7.78 2.81-2.81c.8-.78.8-2.07 0-2.86zM5.41 20L4 18.59l7.72-7.72 1.47 1.35L5.41 20z\"/>\n",
              "  </svg>\n",
              "      </button>\n",
              "      \n",
              "  <style>\n",
              "    .colab-df-container {\n",
              "      display:flex;\n",
              "      flex-wrap:wrap;\n",
              "      gap: 12px;\n",
              "    }\n",
              "\n",
              "    .colab-df-convert {\n",
              "      background-color: #E8F0FE;\n",
              "      border: none;\n",
              "      border-radius: 50%;\n",
              "      cursor: pointer;\n",
              "      display: none;\n",
              "      fill: #1967D2;\n",
              "      height: 32px;\n",
              "      padding: 0 0 0 0;\n",
              "      width: 32px;\n",
              "    }\n",
              "\n",
              "    .colab-df-convert:hover {\n",
              "      background-color: #E2EBFA;\n",
              "      box-shadow: 0px 1px 2px rgba(60, 64, 67, 0.3), 0px 1px 3px 1px rgba(60, 64, 67, 0.15);\n",
              "      fill: #174EA6;\n",
              "    }\n",
              "\n",
              "    [theme=dark] .colab-df-convert {\n",
              "      background-color: #3B4455;\n",
              "      fill: #D2E3FC;\n",
              "    }\n",
              "\n",
              "    [theme=dark] .colab-df-convert:hover {\n",
              "      background-color: #434B5C;\n",
              "      box-shadow: 0px 1px 3px 1px rgba(0, 0, 0, 0.15);\n",
              "      filter: drop-shadow(0px 1px 2px rgba(0, 0, 0, 0.3));\n",
              "      fill: #FFFFFF;\n",
              "    }\n",
              "  </style>\n",
              "\n",
              "      <script>\n",
              "        const buttonEl =\n",
              "          document.querySelector('#df-0bdc86d3-8580-4809-b978-9029c75ee1f2 button.colab-df-convert');\n",
              "        buttonEl.style.display =\n",
              "          google.colab.kernel.accessAllowed ? 'block' : 'none';\n",
              "\n",
              "        async function convertToInteractive(key) {\n",
              "          const element = document.querySelector('#df-0bdc86d3-8580-4809-b978-9029c75ee1f2');\n",
              "          const dataTable =\n",
              "            await google.colab.kernel.invokeFunction('convertToInteractive',\n",
              "                                                     [key], {});\n",
              "          if (!dataTable) return;\n",
              "\n",
              "          const docLinkHtml = 'Like what you see? Visit the ' +\n",
              "            '<a target=\"_blank\" href=https://colab.research.google.com/notebooks/data_table.ipynb>data table notebook</a>'\n",
              "            + ' to learn more about interactive tables.';\n",
              "          element.innerHTML = '';\n",
              "          dataTable['output_type'] = 'display_data';\n",
              "          await google.colab.output.renderOutput(dataTable, element);\n",
              "          const docLink = document.createElement('div');\n",
              "          docLink.innerHTML = docLinkHtml;\n",
              "          element.appendChild(docLink);\n",
              "        }\n",
              "      </script>\n",
              "    </div>\n",
              "  </div>\n",
              "  "
            ]
          },
          "metadata": {},
          "execution_count": 193
        }
      ]
    },
    {
      "cell_type": "code",
      "source": [
        "data.isnull().sum() / len(data)*100"
      ],
      "metadata": {
        "colab": {
          "base_uri": "https://localhost:8080/"
        },
        "id": "FIpRh3h8-1L1",
        "outputId": "cc84723d-ed43-4b33-da82-3628b9644037"
      },
      "execution_count": null,
      "outputs": [
        {
          "output_type": "execute_result",
          "data": {
            "text/plain": [
              "Student ID               0.0\n",
              "Attendance               0.0\n",
              "IP Grade                 0.0\n",
              "Total Activity           0.0\n",
              "Participation Level      0.0\n",
              "Page View Level          0.0\n",
              "Module                   0.0\n",
              "Next Module            100.0\n",
              "dtype: float64"
            ]
          },
          "metadata": {},
          "execution_count": 194
        }
      ]
    },
    {
      "cell_type": "code",
      "source": [
        "# data = data[['Attendance', 'IP Grade', 'Total Activity', 'Participation Level', 'Page View Level']]\n"
      ],
      "metadata": {
        "id": "-oG6E-VF-_LR"
      },
      "execution_count": null,
      "outputs": []
    },
    {
      "cell_type": "code",
      "source": [
        "data.head()"
      ],
      "metadata": {
        "colab": {
          "base_uri": "https://localhost:8080/",
          "height": 206
        },
        "id": "Ve9Zl0dKF3pf",
        "outputId": "2fcbcdb9-7fed-4676-e2b1-628a1c6988e8"
      },
      "execution_count": null,
      "outputs": [
        {
          "output_type": "execute_result",
          "data": {
            "text/plain": [
              "            Student ID  Attendance  IP Grade  Total Activity  \\\n",
              "2   0034K00000BAy3UQAT       100.0   98.6100       1158852.0   \n",
              "5   0034K00000B8gOCQAZ       100.0    0.0000             0.0   \n",
              "6   0034K000009yF7xQAE        86.0   83.1725         77853.0   \n",
              "10  0034K00000AAqD5QAL        95.0   67.2400        139562.0   \n",
              "11  0034K00000BAy34QAD       100.0   89.5075       1071090.0   \n",
              "\n",
              "    Participation Level  Page View Level              Module  Next Module  \n",
              "2                   2.0              3.0  a0R4K000001ynYnUAI          NaN  \n",
              "5                   0.0              1.0  a0R4K000001ynYnUAI          NaN  \n",
              "6                   2.0              1.0  a0R4K000001ynYnUAI          NaN  \n",
              "10                  2.0              2.0  a0R4K000001ynYnUAI          NaN  \n",
              "11                  2.0              3.0  a0R4K000001ynYnUAI          NaN  "
            ],
            "text/html": [
              "\n",
              "  <div id=\"df-afb55c15-6185-43a2-a473-154a2ac2c2f2\">\n",
              "    <div class=\"colab-df-container\">\n",
              "      <div>\n",
              "<style scoped>\n",
              "    .dataframe tbody tr th:only-of-type {\n",
              "        vertical-align: middle;\n",
              "    }\n",
              "\n",
              "    .dataframe tbody tr th {\n",
              "        vertical-align: top;\n",
              "    }\n",
              "\n",
              "    .dataframe thead th {\n",
              "        text-align: right;\n",
              "    }\n",
              "</style>\n",
              "<table border=\"1\" class=\"dataframe\">\n",
              "  <thead>\n",
              "    <tr style=\"text-align: right;\">\n",
              "      <th></th>\n",
              "      <th>Student ID</th>\n",
              "      <th>Attendance</th>\n",
              "      <th>IP Grade</th>\n",
              "      <th>Total Activity</th>\n",
              "      <th>Participation Level</th>\n",
              "      <th>Page View Level</th>\n",
              "      <th>Module</th>\n",
              "      <th>Next Module</th>\n",
              "    </tr>\n",
              "  </thead>\n",
              "  <tbody>\n",
              "    <tr>\n",
              "      <th>2</th>\n",
              "      <td>0034K00000BAy3UQAT</td>\n",
              "      <td>100.0</td>\n",
              "      <td>98.6100</td>\n",
              "      <td>1158852.0</td>\n",
              "      <td>2.0</td>\n",
              "      <td>3.0</td>\n",
              "      <td>a0R4K000001ynYnUAI</td>\n",
              "      <td>NaN</td>\n",
              "    </tr>\n",
              "    <tr>\n",
              "      <th>5</th>\n",
              "      <td>0034K00000B8gOCQAZ</td>\n",
              "      <td>100.0</td>\n",
              "      <td>0.0000</td>\n",
              "      <td>0.0</td>\n",
              "      <td>0.0</td>\n",
              "      <td>1.0</td>\n",
              "      <td>a0R4K000001ynYnUAI</td>\n",
              "      <td>NaN</td>\n",
              "    </tr>\n",
              "    <tr>\n",
              "      <th>6</th>\n",
              "      <td>0034K000009yF7xQAE</td>\n",
              "      <td>86.0</td>\n",
              "      <td>83.1725</td>\n",
              "      <td>77853.0</td>\n",
              "      <td>2.0</td>\n",
              "      <td>1.0</td>\n",
              "      <td>a0R4K000001ynYnUAI</td>\n",
              "      <td>NaN</td>\n",
              "    </tr>\n",
              "    <tr>\n",
              "      <th>10</th>\n",
              "      <td>0034K00000AAqD5QAL</td>\n",
              "      <td>95.0</td>\n",
              "      <td>67.2400</td>\n",
              "      <td>139562.0</td>\n",
              "      <td>2.0</td>\n",
              "      <td>2.0</td>\n",
              "      <td>a0R4K000001ynYnUAI</td>\n",
              "      <td>NaN</td>\n",
              "    </tr>\n",
              "    <tr>\n",
              "      <th>11</th>\n",
              "      <td>0034K00000BAy34QAD</td>\n",
              "      <td>100.0</td>\n",
              "      <td>89.5075</td>\n",
              "      <td>1071090.0</td>\n",
              "      <td>2.0</td>\n",
              "      <td>3.0</td>\n",
              "      <td>a0R4K000001ynYnUAI</td>\n",
              "      <td>NaN</td>\n",
              "    </tr>\n",
              "  </tbody>\n",
              "</table>\n",
              "</div>\n",
              "      <button class=\"colab-df-convert\" onclick=\"convertToInteractive('df-afb55c15-6185-43a2-a473-154a2ac2c2f2')\"\n",
              "              title=\"Convert this dataframe to an interactive table.\"\n",
              "              style=\"display:none;\">\n",
              "        \n",
              "  <svg xmlns=\"http://www.w3.org/2000/svg\" height=\"24px\"viewBox=\"0 0 24 24\"\n",
              "       width=\"24px\">\n",
              "    <path d=\"M0 0h24v24H0V0z\" fill=\"none\"/>\n",
              "    <path d=\"M18.56 5.44l.94 2.06.94-2.06 2.06-.94-2.06-.94-.94-2.06-.94 2.06-2.06.94zm-11 1L8.5 8.5l.94-2.06 2.06-.94-2.06-.94L8.5 2.5l-.94 2.06-2.06.94zm10 10l.94 2.06.94-2.06 2.06-.94-2.06-.94-.94-2.06-.94 2.06-2.06.94z\"/><path d=\"M17.41 7.96l-1.37-1.37c-.4-.4-.92-.59-1.43-.59-.52 0-1.04.2-1.43.59L10.3 9.45l-7.72 7.72c-.78.78-.78 2.05 0 2.83L4 21.41c.39.39.9.59 1.41.59.51 0 1.02-.2 1.41-.59l7.78-7.78 2.81-2.81c.8-.78.8-2.07 0-2.86zM5.41 20L4 18.59l7.72-7.72 1.47 1.35L5.41 20z\"/>\n",
              "  </svg>\n",
              "      </button>\n",
              "      \n",
              "  <style>\n",
              "    .colab-df-container {\n",
              "      display:flex;\n",
              "      flex-wrap:wrap;\n",
              "      gap: 12px;\n",
              "    }\n",
              "\n",
              "    .colab-df-convert {\n",
              "      background-color: #E8F0FE;\n",
              "      border: none;\n",
              "      border-radius: 50%;\n",
              "      cursor: pointer;\n",
              "      display: none;\n",
              "      fill: #1967D2;\n",
              "      height: 32px;\n",
              "      padding: 0 0 0 0;\n",
              "      width: 32px;\n",
              "    }\n",
              "\n",
              "    .colab-df-convert:hover {\n",
              "      background-color: #E2EBFA;\n",
              "      box-shadow: 0px 1px 2px rgba(60, 64, 67, 0.3), 0px 1px 3px 1px rgba(60, 64, 67, 0.15);\n",
              "      fill: #174EA6;\n",
              "    }\n",
              "\n",
              "    [theme=dark] .colab-df-convert {\n",
              "      background-color: #3B4455;\n",
              "      fill: #D2E3FC;\n",
              "    }\n",
              "\n",
              "    [theme=dark] .colab-df-convert:hover {\n",
              "      background-color: #434B5C;\n",
              "      box-shadow: 0px 1px 3px 1px rgba(0, 0, 0, 0.15);\n",
              "      filter: drop-shadow(0px 1px 2px rgba(0, 0, 0, 0.3));\n",
              "      fill: #FFFFFF;\n",
              "    }\n",
              "  </style>\n",
              "\n",
              "      <script>\n",
              "        const buttonEl =\n",
              "          document.querySelector('#df-afb55c15-6185-43a2-a473-154a2ac2c2f2 button.colab-df-convert');\n",
              "        buttonEl.style.display =\n",
              "          google.colab.kernel.accessAllowed ? 'block' : 'none';\n",
              "\n",
              "        async function convertToInteractive(key) {\n",
              "          const element = document.querySelector('#df-afb55c15-6185-43a2-a473-154a2ac2c2f2');\n",
              "          const dataTable =\n",
              "            await google.colab.kernel.invokeFunction('convertToInteractive',\n",
              "                                                     [key], {});\n",
              "          if (!dataTable) return;\n",
              "\n",
              "          const docLinkHtml = 'Like what you see? Visit the ' +\n",
              "            '<a target=\"_blank\" href=https://colab.research.google.com/notebooks/data_table.ipynb>data table notebook</a>'\n",
              "            + ' to learn more about interactive tables.';\n",
              "          element.innerHTML = '';\n",
              "          dataTable['output_type'] = 'display_data';\n",
              "          await google.colab.output.renderOutput(dataTable, element);\n",
              "          const docLink = document.createElement('div');\n",
              "          docLink.innerHTML = docLinkHtml;\n",
              "          element.appendChild(docLink);\n",
              "        }\n",
              "      </script>\n",
              "    </div>\n",
              "  </div>\n",
              "  "
            ]
          },
          "metadata": {},
          "execution_count": 196
        }
      ]
    },
    {
      "cell_type": "code",
      "source": [
        "data.duplicated().sum()"
      ],
      "metadata": {
        "colab": {
          "base_uri": "https://localhost:8080/"
        },
        "id": "rSmcXF4iGB-3",
        "outputId": "901e7e99-fb98-464b-cf13-5bbbd7cb1f71"
      },
      "execution_count": null,
      "outputs": [
        {
          "output_type": "execute_result",
          "data": {
            "text/plain": [
              "0"
            ]
          },
          "metadata": {},
          "execution_count": 197
        }
      ]
    },
    {
      "cell_type": "code",
      "source": [
        "intro_to_soft_dev = data"
      ],
      "metadata": {
        "id": "lktJjRiGJedh"
      },
      "execution_count": null,
      "outputs": []
    },
    {
      "cell_type": "code",
      "source": [
        "def check_next_module(row):\n",
        "  module=row[\"Module\"]\n",
        "  next_module = row [\"Next Module\"]\n",
        "  grade = row[\"IP Grade\"]\n",
        "  if grade < 50 and next_module == \"\":\n",
        "    return False\n",
        "  return True\n",
        "\n",
        "\n",
        "\n",
        "\n"
      ],
      "metadata": {
        "id": "WBs995A6KaQM"
      },
      "execution_count": null,
      "outputs": []
    },
    {
      "cell_type": "code",
      "source": [
        "data[\"Pass\"]= data.apply(check_next_module, axis = 1)\n",
        "data.head()"
      ],
      "metadata": {
        "colab": {
          "base_uri": "https://localhost:8080/",
          "height": 250
        },
        "id": "6_jj_Uf4MCH7",
        "outputId": "fc91ee4a-fde8-4c61-95ec-27cc258a51af"
      },
      "execution_count": null,
      "outputs": [
        {
          "output_type": "execute_result",
          "data": {
            "text/plain": [
              "            Student ID  Attendance  IP Grade  Total Activity  \\\n",
              "2   0034K00000BAy3UQAT       100.0   98.6100       1158852.0   \n",
              "5   0034K00000B8gOCQAZ       100.0    0.0000             0.0   \n",
              "6   0034K000009yF7xQAE        86.0   83.1725         77853.0   \n",
              "10  0034K00000AAqD5QAL        95.0   67.2400        139562.0   \n",
              "11  0034K00000BAy34QAD       100.0   89.5075       1071090.0   \n",
              "\n",
              "    Participation Level  Page View Level              Module  Next Module  \\\n",
              "2                   2.0              3.0  a0R4K000001ynYnUAI          NaN   \n",
              "5                   0.0              1.0  a0R4K000001ynYnUAI          NaN   \n",
              "6                   2.0              1.0  a0R4K000001ynYnUAI          NaN   \n",
              "10                  2.0              2.0  a0R4K000001ynYnUAI          NaN   \n",
              "11                  2.0              3.0  a0R4K000001ynYnUAI          NaN   \n",
              "\n",
              "    Pass  \n",
              "2   True  \n",
              "5   True  \n",
              "6   True  \n",
              "10  True  \n",
              "11  True  "
            ],
            "text/html": [
              "\n",
              "  <div id=\"df-01d0db56-5465-4dde-be31-1690deebb1aa\">\n",
              "    <div class=\"colab-df-container\">\n",
              "      <div>\n",
              "<style scoped>\n",
              "    .dataframe tbody tr th:only-of-type {\n",
              "        vertical-align: middle;\n",
              "    }\n",
              "\n",
              "    .dataframe tbody tr th {\n",
              "        vertical-align: top;\n",
              "    }\n",
              "\n",
              "    .dataframe thead th {\n",
              "        text-align: right;\n",
              "    }\n",
              "</style>\n",
              "<table border=\"1\" class=\"dataframe\">\n",
              "  <thead>\n",
              "    <tr style=\"text-align: right;\">\n",
              "      <th></th>\n",
              "      <th>Student ID</th>\n",
              "      <th>Attendance</th>\n",
              "      <th>IP Grade</th>\n",
              "      <th>Total Activity</th>\n",
              "      <th>Participation Level</th>\n",
              "      <th>Page View Level</th>\n",
              "      <th>Module</th>\n",
              "      <th>Next Module</th>\n",
              "      <th>Pass</th>\n",
              "    </tr>\n",
              "  </thead>\n",
              "  <tbody>\n",
              "    <tr>\n",
              "      <th>2</th>\n",
              "      <td>0034K00000BAy3UQAT</td>\n",
              "      <td>100.0</td>\n",
              "      <td>98.6100</td>\n",
              "      <td>1158852.0</td>\n",
              "      <td>2.0</td>\n",
              "      <td>3.0</td>\n",
              "      <td>a0R4K000001ynYnUAI</td>\n",
              "      <td>NaN</td>\n",
              "      <td>True</td>\n",
              "    </tr>\n",
              "    <tr>\n",
              "      <th>5</th>\n",
              "      <td>0034K00000B8gOCQAZ</td>\n",
              "      <td>100.0</td>\n",
              "      <td>0.0000</td>\n",
              "      <td>0.0</td>\n",
              "      <td>0.0</td>\n",
              "      <td>1.0</td>\n",
              "      <td>a0R4K000001ynYnUAI</td>\n",
              "      <td>NaN</td>\n",
              "      <td>True</td>\n",
              "    </tr>\n",
              "    <tr>\n",
              "      <th>6</th>\n",
              "      <td>0034K000009yF7xQAE</td>\n",
              "      <td>86.0</td>\n",
              "      <td>83.1725</td>\n",
              "      <td>77853.0</td>\n",
              "      <td>2.0</td>\n",
              "      <td>1.0</td>\n",
              "      <td>a0R4K000001ynYnUAI</td>\n",
              "      <td>NaN</td>\n",
              "      <td>True</td>\n",
              "    </tr>\n",
              "    <tr>\n",
              "      <th>10</th>\n",
              "      <td>0034K00000AAqD5QAL</td>\n",
              "      <td>95.0</td>\n",
              "      <td>67.2400</td>\n",
              "      <td>139562.0</td>\n",
              "      <td>2.0</td>\n",
              "      <td>2.0</td>\n",
              "      <td>a0R4K000001ynYnUAI</td>\n",
              "      <td>NaN</td>\n",
              "      <td>True</td>\n",
              "    </tr>\n",
              "    <tr>\n",
              "      <th>11</th>\n",
              "      <td>0034K00000BAy34QAD</td>\n",
              "      <td>100.0</td>\n",
              "      <td>89.5075</td>\n",
              "      <td>1071090.0</td>\n",
              "      <td>2.0</td>\n",
              "      <td>3.0</td>\n",
              "      <td>a0R4K000001ynYnUAI</td>\n",
              "      <td>NaN</td>\n",
              "      <td>True</td>\n",
              "    </tr>\n",
              "  </tbody>\n",
              "</table>\n",
              "</div>\n",
              "      <button class=\"colab-df-convert\" onclick=\"convertToInteractive('df-01d0db56-5465-4dde-be31-1690deebb1aa')\"\n",
              "              title=\"Convert this dataframe to an interactive table.\"\n",
              "              style=\"display:none;\">\n",
              "        \n",
              "  <svg xmlns=\"http://www.w3.org/2000/svg\" height=\"24px\"viewBox=\"0 0 24 24\"\n",
              "       width=\"24px\">\n",
              "    <path d=\"M0 0h24v24H0V0z\" fill=\"none\"/>\n",
              "    <path d=\"M18.56 5.44l.94 2.06.94-2.06 2.06-.94-2.06-.94-.94-2.06-.94 2.06-2.06.94zm-11 1L8.5 8.5l.94-2.06 2.06-.94-2.06-.94L8.5 2.5l-.94 2.06-2.06.94zm10 10l.94 2.06.94-2.06 2.06-.94-2.06-.94-.94-2.06-.94 2.06-2.06.94z\"/><path d=\"M17.41 7.96l-1.37-1.37c-.4-.4-.92-.59-1.43-.59-.52 0-1.04.2-1.43.59L10.3 9.45l-7.72 7.72c-.78.78-.78 2.05 0 2.83L4 21.41c.39.39.9.59 1.41.59.51 0 1.02-.2 1.41-.59l7.78-7.78 2.81-2.81c.8-.78.8-2.07 0-2.86zM5.41 20L4 18.59l7.72-7.72 1.47 1.35L5.41 20z\"/>\n",
              "  </svg>\n",
              "      </button>\n",
              "      \n",
              "  <style>\n",
              "    .colab-df-container {\n",
              "      display:flex;\n",
              "      flex-wrap:wrap;\n",
              "      gap: 12px;\n",
              "    }\n",
              "\n",
              "    .colab-df-convert {\n",
              "      background-color: #E8F0FE;\n",
              "      border: none;\n",
              "      border-radius: 50%;\n",
              "      cursor: pointer;\n",
              "      display: none;\n",
              "      fill: #1967D2;\n",
              "      height: 32px;\n",
              "      padding: 0 0 0 0;\n",
              "      width: 32px;\n",
              "    }\n",
              "\n",
              "    .colab-df-convert:hover {\n",
              "      background-color: #E2EBFA;\n",
              "      box-shadow: 0px 1px 2px rgba(60, 64, 67, 0.3), 0px 1px 3px 1px rgba(60, 64, 67, 0.15);\n",
              "      fill: #174EA6;\n",
              "    }\n",
              "\n",
              "    [theme=dark] .colab-df-convert {\n",
              "      background-color: #3B4455;\n",
              "      fill: #D2E3FC;\n",
              "    }\n",
              "\n",
              "    [theme=dark] .colab-df-convert:hover {\n",
              "      background-color: #434B5C;\n",
              "      box-shadow: 0px 1px 3px 1px rgba(0, 0, 0, 0.15);\n",
              "      filter: drop-shadow(0px 1px 2px rgba(0, 0, 0, 0.3));\n",
              "      fill: #FFFFFF;\n",
              "    }\n",
              "  </style>\n",
              "\n",
              "      <script>\n",
              "        const buttonEl =\n",
              "          document.querySelector('#df-01d0db56-5465-4dde-be31-1690deebb1aa button.colab-df-convert');\n",
              "        buttonEl.style.display =\n",
              "          google.colab.kernel.accessAllowed ? 'block' : 'none';\n",
              "\n",
              "        async function convertToInteractive(key) {\n",
              "          const element = document.querySelector('#df-01d0db56-5465-4dde-be31-1690deebb1aa');\n",
              "          const dataTable =\n",
              "            await google.colab.kernel.invokeFunction('convertToInteractive',\n",
              "                                                     [key], {});\n",
              "          if (!dataTable) return;\n",
              "\n",
              "          const docLinkHtml = 'Like what you see? Visit the ' +\n",
              "            '<a target=\"_blank\" href=https://colab.research.google.com/notebooks/data_table.ipynb>data table notebook</a>'\n",
              "            + ' to learn more about interactive tables.';\n",
              "          element.innerHTML = '';\n",
              "          dataTable['output_type'] = 'display_data';\n",
              "          await google.colab.output.renderOutput(dataTable, element);\n",
              "          const docLink = document.createElement('div');\n",
              "          docLink.innerHTML = docLinkHtml;\n",
              "          element.appendChild(docLink);\n",
              "        }\n",
              "      </script>\n",
              "    </div>\n",
              "  </div>\n",
              "  "
            ]
          },
          "metadata": {},
          "execution_count": 200
        }
      ]
    },
    {
      "cell_type": "code",
      "source": [
        "data = data[data[\"Pass\"]]"
      ],
      "metadata": {
        "id": "OyemyGC_MwaO"
      },
      "execution_count": null,
      "outputs": []
    },
    {
      "cell_type": "code",
      "source": [
        "def assign_next_module(row):\n",
        "    module = row['Module']\n",
        "    next_module = row['Next Module']\n",
        "    grade = row['IP Grade']\n",
        "\n",
        "    if next_module == '':\n",
        "        if module == 'Intro to Software Development':\n",
        "            row['Next Module'] = 'Angular'\n",
        "        elif module == 'Angular':\n",
        "            row['Next Module'] = 'Java/Python'\n",
        "        elif module == 'Java/Python':\n",
        "            if grade >= 50:\n",
        "                if 'Java' in module:\n",
        "                    row['Next Module'] = 'Android/Django'\n",
        "            elif 'Python' in module:\n",
        "                                row['Next Module'] = 'Android/Django'\n",
        "        elif module == 'Android/Django':\n",
        "            if grade >= 50:\n",
        "                if 'Android' in module:\n",
        "                    row['Next Module'] = 'Professional Development'\n",
        "                elif 'Django' in module:\n",
        "                    row['Next Module'] = 'Professional Development'\n",
        "\n",
        "    return row"
      ],
      "metadata": {
        "id": "prcMRkNxQgki"
      },
      "execution_count": null,
      "outputs": []
    },
    {
      "cell_type": "markdown",
      "source": [
        "Questions"
      ],
      "metadata": {
        "id": "wLo3JhRW7ZEU"
      }
    },
    {
      "cell_type": "code",
      "source": [
        "\n",
        "\n",
        "intro_to_soft_dev = pd.read_excel(\"/content/Assignment Data.xlsx\", sheet_name=0)\n",
        "#renaming columns for easier readability\n",
        "\n",
        "intro_to_soft_dev = intro_to_soft_dev.rename(columns={\n",
        "    'hed__Contact__c': 'Student ID',\n",
        "    'mor_Attendance_Score__c': 'Attendance',\n",
        "    'IP_Grade_Average__c': 'IP Grade',\n",
        "    'mor_Total_Activity_Time__c': 'Total Activity',\n",
        "    'Participations_Level__c': 'Participation Level',\n",
        "    'Page_Views_Level__c': 'Page View Level',\n",
        "    'hed__Course_Offering__c': 'Module',\n",
        "    'Prerequisite_Course_Connection__c': 'Next Module'\n",
        "})\n",
        "\n",
        "# removing null values and selecting columns of interest\n",
        "\n",
        "intro_to_soft_dev = intro_to_soft_dev.dropna(subset=['Attendance', 'IP Grade', 'Total Activity', 'Participation Level', 'Page View Level'])\n",
        "\n",
        "#We redo the same steps for each dataframe\n",
        "angular = pd.read_excel(\"/content/Assignment Data.xlsx\", sheet_name=1)\n",
        "\n",
        "angular = angular.rename(columns={\n",
        "    'hed__Contact__c': 'Student ID',\n",
        "    'mor_Attendance_Score__c': 'Attendance',\n",
        "    'IP_Grade_Average__c': 'IP Grade',\n",
        "    'mor_Total_Activity_Time__c': 'Total Activity',\n",
        "    'Participations_Level__c': 'Participation Level',\n",
        "    'Page_Views_Level__c': 'Page View Level',\n",
        "    'hed__Course_Offering__c': 'Module',\n",
        "    'Prerequisite_Course_Connection__c': 'Next Module'\n",
        "})\n",
        "\n",
        "angular= angular.dropna(subset=['Attendance', 'IP Grade', 'Total Activity', 'Participation Level', 'Page View Level'])\n",
        "\n",
        "java = pd.read_excel(\"/content/Assignment Data.xlsx\", sheet_name=2)\n",
        "\n",
        "java = java.rename(columns={\n",
        "    'hed__Contact__c': 'Student ID',\n",
        "    'mor_Attendance_Score__c': 'Attendance',\n",
        "    'IP_Grade_Average__c': 'IP Grade',\n",
        "    'mor_Total_Activity_Time__c': 'Total Activity',\n",
        "    'Participations_Level__c': 'Participation Level',\n",
        "    'Page_Views_Level__c': 'Page View Level',\n",
        "    'hed__Course_Offering__c': 'Module',\n",
        "    'Prerequisite_Course_Connection__c': 'Next Module'\n",
        "})\n",
        "\n",
        "java = java.dropna(subset=['Attendance', 'IP Grade', 'Total Activity', 'Participation Level', 'Page View Level'])\n",
        "\n",
        "android = pd.read_excel(\"/content/Assignment Data.xlsx\", sheet_name=3)\n",
        "\n",
        "android = android.rename(columns={\n",
        "    'hed__Contact__c': 'Student ID',\n",
        "    'mor_Attendance_Score__c': 'Attendance',\n",
        "    'IP_Grade_Average__c': 'IP Grade',\n",
        "    'mor_Total_Activity_Time__c': 'Total Activity',\n",
        "    'Participations_Level__c': 'Participation Level',\n",
        "    'Page_Views_Level__c': 'Page View Level',\n",
        "    'hed__Course_Offering__c': 'Module',\n",
        "    'Prerequisite_Course_Connection__c': 'Next Module'\n",
        "})\n",
        "\n",
        "android = android.dropna(subset=['Attendance', 'IP Grade', 'Total Activity', 'Participation Level', 'Page View Level'])\n",
        "\n",
        "python_flask = pd.read_excel(\"/content/Assignment Data.xlsx\", sheet_name=4)\n",
        "\n",
        "python_flask = python_flask.rename(columns={\n",
        "    'hed__Contact__c': 'Student ID',\n",
        "    'mor_Attendance_Score__c': 'Attendance',\n",
        "    'IP_Grade_Average__c': 'IP Grade',\n",
        "    'mor_Total_Activity_Time__c': 'Total Activity',\n",
        "    'Participations_Level__c': 'Participation Level',\n",
        "    'Page_Views_Level__c': 'Page View Level',\n",
        "    'hed__Course_Offering__c': 'Module',\n",
        "    'Prerequisite_Course_Connection__c': 'Next Module'\n",
        "})\n",
        "\n",
        "python_flask = python_flask.dropna(subset=['Attendance', 'IP Grade', 'Total Activity', 'Participation Level', 'Page View Level'])\n",
        "\n",
        "django = pd.read_excel(\"/content/Assignment Data.xlsx\", sheet_name=5)\n",
        "\n",
        "django = django.rename(columns={\n",
        "    'hed__Contact__c': 'Student ID',\n",
        "    'mor_Attendance_Score__c': 'Attendance',\n",
        "    'IP_Grade_Average__c': 'IP Grade',\n",
        "    'mor_Total_Activity_Time__c': 'Total Activity',\n",
        "    'Participations_Level__c': 'Participation Level',\n",
        "    'Page_Views_Level__c': 'Page View Level',\n",
        "    'hed__Course_Offering__c': 'Module',\n",
        "    'Prerequisite_Course_Connection__c': 'Next Module'\n",
        "})\n",
        "django = django.dropna(subset=['Attendance', 'IP Grade', 'Total Activity', 'Participation Level', 'Page View Level'])\n",
        "\n",
        "professional_development = pd.read_excel(\"/content/Assignment Data.xlsx\", sheet_name=6)\n",
        "\n",
        "professional_development = professional_development.rename(columns={\n",
        "    'hed__Contact__c': 'Student ID',\n",
        "    'mor_Attendance_Score__c': 'Attendance',\n",
        "    'IP_Grade_Average__c': 'IP Grade',\n",
        "    'mor_Total_Activity_Time__c': 'Total Activity',\n",
        "    'Participations_Level__c': 'Participation Level',\n",
        "    'Page_Views_Level__c': 'Page View Level',\n",
        "    'hed__Course_Offering__c': 'Module',\n",
        "    'Prerequisite_Course_Connection__c': 'Next Module'\n",
        "})\n",
        "\n",
        "professional_development = professional_development.dropna(subset=['Attendance', 'IP Grade', 'Total Activity', 'Participation Level', 'Page View Level'])"
      ],
      "metadata": {
        "id": "tK5nwR1rbpqN"
      },
      "execution_count": null,
      "outputs": []
    },
    {
      "cell_type": "code",
      "source": [
        "angular.head()"
      ],
      "metadata": {
        "colab": {
          "base_uri": "https://localhost:8080/",
          "height": 250
        },
        "id": "mogDdROfnyYK",
        "outputId": "82dcf178-3fcf-427f-eca8-45c7653f814a"
      },
      "execution_count": null,
      "outputs": [
        {
          "output_type": "execute_result",
          "data": {
            "text/plain": [
              "           Student ID  Attendance  IP Grade  Total Activity  \\\n",
              "0  0034K00000AAqD5QAL         NaN       NaN         32980.0   \n",
              "1  0034K00000BAy34QAD       100.0    88.635        518086.0   \n",
              "2  0034K00000B8gO1QAJ       100.0    71.590        219604.0   \n",
              "3  0034K00000B8gOhQAJ       100.0    64.770         38278.0   \n",
              "4  0034K00000B8gOQQAZ       100.0    81.820        310581.0   \n",
              "\n",
              "   Participation Level  Page View Level              Module  \\\n",
              "0                  NaN              NaN  a0R4K000001z16cUAA   \n",
              "1                  1.0              3.0  a0R4K000001z16cUAA   \n",
              "2                  3.0              3.0  a0R4K000001z16cUAA   \n",
              "3                  2.0              2.0  a0R4K000001z16cUAA   \n",
              "4                  3.0              2.0  a0R4K000001z16cUAA   \n",
              "\n",
              "          Next Module  \n",
              "0  a0P4K000001LuzQUAS  \n",
              "1  a0P4K000001LuzRUAS  \n",
              "2  a0P4K000001LuzTUAS  \n",
              "3  a0P4K000001LuzUUAS  \n",
              "4  a0P4K000001LuzVUAS  "
            ],
            "text/html": [
              "\n",
              "  <div id=\"df-ab975a08-a07e-4527-ac40-d6130b7e6fdb\">\n",
              "    <div class=\"colab-df-container\">\n",
              "      <div>\n",
              "<style scoped>\n",
              "    .dataframe tbody tr th:only-of-type {\n",
              "        vertical-align: middle;\n",
              "    }\n",
              "\n",
              "    .dataframe tbody tr th {\n",
              "        vertical-align: top;\n",
              "    }\n",
              "\n",
              "    .dataframe thead th {\n",
              "        text-align: right;\n",
              "    }\n",
              "</style>\n",
              "<table border=\"1\" class=\"dataframe\">\n",
              "  <thead>\n",
              "    <tr style=\"text-align: right;\">\n",
              "      <th></th>\n",
              "      <th>Student ID</th>\n",
              "      <th>Attendance</th>\n",
              "      <th>IP Grade</th>\n",
              "      <th>Total Activity</th>\n",
              "      <th>Participation Level</th>\n",
              "      <th>Page View Level</th>\n",
              "      <th>Module</th>\n",
              "      <th>Next Module</th>\n",
              "    </tr>\n",
              "  </thead>\n",
              "  <tbody>\n",
              "    <tr>\n",
              "      <th>0</th>\n",
              "      <td>0034K00000AAqD5QAL</td>\n",
              "      <td>NaN</td>\n",
              "      <td>NaN</td>\n",
              "      <td>32980.0</td>\n",
              "      <td>NaN</td>\n",
              "      <td>NaN</td>\n",
              "      <td>a0R4K000001z16cUAA</td>\n",
              "      <td>a0P4K000001LuzQUAS</td>\n",
              "    </tr>\n",
              "    <tr>\n",
              "      <th>1</th>\n",
              "      <td>0034K00000BAy34QAD</td>\n",
              "      <td>100.0</td>\n",
              "      <td>88.635</td>\n",
              "      <td>518086.0</td>\n",
              "      <td>1.0</td>\n",
              "      <td>3.0</td>\n",
              "      <td>a0R4K000001z16cUAA</td>\n",
              "      <td>a0P4K000001LuzRUAS</td>\n",
              "    </tr>\n",
              "    <tr>\n",
              "      <th>2</th>\n",
              "      <td>0034K00000B8gO1QAJ</td>\n",
              "      <td>100.0</td>\n",
              "      <td>71.590</td>\n",
              "      <td>219604.0</td>\n",
              "      <td>3.0</td>\n",
              "      <td>3.0</td>\n",
              "      <td>a0R4K000001z16cUAA</td>\n",
              "      <td>a0P4K000001LuzTUAS</td>\n",
              "    </tr>\n",
              "    <tr>\n",
              "      <th>3</th>\n",
              "      <td>0034K00000B8gOhQAJ</td>\n",
              "      <td>100.0</td>\n",
              "      <td>64.770</td>\n",
              "      <td>38278.0</td>\n",
              "      <td>2.0</td>\n",
              "      <td>2.0</td>\n",
              "      <td>a0R4K000001z16cUAA</td>\n",
              "      <td>a0P4K000001LuzUUAS</td>\n",
              "    </tr>\n",
              "    <tr>\n",
              "      <th>4</th>\n",
              "      <td>0034K00000B8gOQQAZ</td>\n",
              "      <td>100.0</td>\n",
              "      <td>81.820</td>\n",
              "      <td>310581.0</td>\n",
              "      <td>3.0</td>\n",
              "      <td>2.0</td>\n",
              "      <td>a0R4K000001z16cUAA</td>\n",
              "      <td>a0P4K000001LuzVUAS</td>\n",
              "    </tr>\n",
              "  </tbody>\n",
              "</table>\n",
              "</div>\n",
              "      <button class=\"colab-df-convert\" onclick=\"convertToInteractive('df-ab975a08-a07e-4527-ac40-d6130b7e6fdb')\"\n",
              "              title=\"Convert this dataframe to an interactive table.\"\n",
              "              style=\"display:none;\">\n",
              "        \n",
              "  <svg xmlns=\"http://www.w3.org/2000/svg\" height=\"24px\"viewBox=\"0 0 24 24\"\n",
              "       width=\"24px\">\n",
              "    <path d=\"M0 0h24v24H0V0z\" fill=\"none\"/>\n",
              "    <path d=\"M18.56 5.44l.94 2.06.94-2.06 2.06-.94-2.06-.94-.94-2.06-.94 2.06-2.06.94zm-11 1L8.5 8.5l.94-2.06 2.06-.94-2.06-.94L8.5 2.5l-.94 2.06-2.06.94zm10 10l.94 2.06.94-2.06 2.06-.94-2.06-.94-.94-2.06-.94 2.06-2.06.94z\"/><path d=\"M17.41 7.96l-1.37-1.37c-.4-.4-.92-.59-1.43-.59-.52 0-1.04.2-1.43.59L10.3 9.45l-7.72 7.72c-.78.78-.78 2.05 0 2.83L4 21.41c.39.39.9.59 1.41.59.51 0 1.02-.2 1.41-.59l7.78-7.78 2.81-2.81c.8-.78.8-2.07 0-2.86zM5.41 20L4 18.59l7.72-7.72 1.47 1.35L5.41 20z\"/>\n",
              "  </svg>\n",
              "      </button>\n",
              "      \n",
              "  <style>\n",
              "    .colab-df-container {\n",
              "      display:flex;\n",
              "      flex-wrap:wrap;\n",
              "      gap: 12px;\n",
              "    }\n",
              "\n",
              "    .colab-df-convert {\n",
              "      background-color: #E8F0FE;\n",
              "      border: none;\n",
              "      border-radius: 50%;\n",
              "      cursor: pointer;\n",
              "      display: none;\n",
              "      fill: #1967D2;\n",
              "      height: 32px;\n",
              "      padding: 0 0 0 0;\n",
              "      width: 32px;\n",
              "    }\n",
              "\n",
              "    .colab-df-convert:hover {\n",
              "      background-color: #E2EBFA;\n",
              "      box-shadow: 0px 1px 2px rgba(60, 64, 67, 0.3), 0px 1px 3px 1px rgba(60, 64, 67, 0.15);\n",
              "      fill: #174EA6;\n",
              "    }\n",
              "\n",
              "    [theme=dark] .colab-df-convert {\n",
              "      background-color: #3B4455;\n",
              "      fill: #D2E3FC;\n",
              "    }\n",
              "\n",
              "    [theme=dark] .colab-df-convert:hover {\n",
              "      background-color: #434B5C;\n",
              "      box-shadow: 0px 1px 3px 1px rgba(0, 0, 0, 0.15);\n",
              "      filter: drop-shadow(0px 1px 2px rgba(0, 0, 0, 0.3));\n",
              "      fill: #FFFFFF;\n",
              "    }\n",
              "  </style>\n",
              "\n",
              "      <script>\n",
              "        const buttonEl =\n",
              "          document.querySelector('#df-ab975a08-a07e-4527-ac40-d6130b7e6fdb button.colab-df-convert');\n",
              "        buttonEl.style.display =\n",
              "          google.colab.kernel.accessAllowed ? 'block' : 'none';\n",
              "\n",
              "        async function convertToInteractive(key) {\n",
              "          const element = document.querySelector('#df-ab975a08-a07e-4527-ac40-d6130b7e6fdb');\n",
              "          const dataTable =\n",
              "            await google.colab.kernel.invokeFunction('convertToInteractive',\n",
              "                                                     [key], {});\n",
              "          if (!dataTable) return;\n",
              "\n",
              "          const docLinkHtml = 'Like what you see? Visit the ' +\n",
              "            '<a target=\"_blank\" href=https://colab.research.google.com/notebooks/data_table.ipynb>data table notebook</a>'\n",
              "            + ' to learn more about interactive tables.';\n",
              "          element.innerHTML = '';\n",
              "          dataTable['output_type'] = 'display_data';\n",
              "          await google.colab.output.renderOutput(dataTable, element);\n",
              "          const docLink = document.createElement('div');\n",
              "          docLink.innerHTML = docLinkHtml;\n",
              "          element.appendChild(docLink);\n",
              "        }\n",
              "      </script>\n",
              "    </div>\n",
              "  </div>\n",
              "  "
            ]
          },
          "metadata": {},
          "execution_count": 205
        }
      ]
    },
    {
      "cell_type": "code",
      "source": [
        "# identify failing students\n",
        "\n",
        "def check_next_module(row):\n",
        "  module=row[\"Module\"]\n",
        "  next_module = row [\"Next Module\"]\n",
        "  grade = row[\"IP Grade\"]\n",
        "  if grade < 50 and next_module == \"\":\n",
        "    return False\n",
        "  return True\n",
        "\n"
      ],
      "metadata": {
        "id": "q0GoB-mgdcf7"
      },
      "execution_count": null,
      "outputs": []
    },
    {
      "cell_type": "code",
      "source": [
        "#lets work with angular\n",
        "# Students that scored below 50% in a module and are not shown to be enrolled in one of\n",
        "#the next modules are presumed to have failed and should be excluded when calculating\n",
        "#module-to-module retention (See Q2.)\n",
        "\n",
        "angular[\"pass\"]=angular.apply(check_next_module, axis=1)\n",
        "angular[\"pass\"].head()\n"
      ],
      "metadata": {
        "colab": {
          "base_uri": "https://localhost:8080/"
        },
        "id": "CVGXPj67oOMN",
        "outputId": "88cd4756-bd76-4b69-8f4e-bdb4d4351c4a"
      },
      "execution_count": null,
      "outputs": [
        {
          "output_type": "execute_result",
          "data": {
            "text/plain": [
              "0    True\n",
              "1    True\n",
              "2    True\n",
              "3    True\n",
              "4    True\n",
              "Name: pass, dtype: bool"
            ]
          },
          "metadata": {},
          "execution_count": 209
        }
      ]
    },
    {
      "cell_type": "code",
      "source": [
        "#logic to resolve enrollment conflicts\n",
        "\n",
        "angular = angular.drop_duplicates(subset=['Student ID', 'Module'], keep='first')\n",
        "\n",
        "angular = angular[~((angular['Module'] == 'Java/Python') & (angular['Next Module'] == 'Angular'))]\n",
        "angular = angular[~((angular['Module'] == 'Android/Django') & (angular['Next Module'] == 'Java/Python'))]\n",
        "angular = angular[~((angular['Module'] == 'Android/Django') & (angular['Next Module'] == 'Angular'))]\n",
        "angular = angular[~((angular['Module'] == 'Professional Development') & ((angular['Next Module'] == 'Android/Django') | (data['Next Module'] == 'Java/Python')))]\n",
        "\n"
      ],
      "metadata": {
        "id": "K4LYk5Twfzg2",
        "colab": {
          "base_uri": "https://localhost:8080/"
        },
        "outputId": "f18644d8-8432-4820-c502-5ad5b7b69444"
      },
      "execution_count": null,
      "outputs": [
        {
          "output_type": "stream",
          "name": "stderr",
          "text": [
            "<ipython-input-210-ed7fed705bec>:8: UserWarning: Boolean Series key will be reindexed to match DataFrame index.\n",
            "  angular = angular[~((angular['Module'] == 'Professional Development') & ((angular['Next Module'] == 'Android/Django') | (data['Next Module'] == 'Java/Python')))]\n"
          ]
        }
      ]
    },
    {
      "cell_type": "code",
      "source": [
        "angular.head()"
      ],
      "metadata": {
        "colab": {
          "base_uri": "https://localhost:8080/",
          "height": 250
        },
        "id": "UcDwMHvPs5m1",
        "outputId": "23813e00-327e-47dd-f2af-d93f2b47beef"
      },
      "execution_count": null,
      "outputs": [
        {
          "output_type": "execute_result",
          "data": {
            "text/plain": [
              "           Student ID  Attendance  IP Grade  Total Activity  \\\n",
              "1  0034K00000BAy34QAD       100.0    88.635        518086.0   \n",
              "2  0034K00000B8gO1QAJ       100.0    71.590        219604.0   \n",
              "3  0034K00000B8gOhQAJ       100.0    64.770         38278.0   \n",
              "4  0034K00000B8gOQQAZ       100.0    81.820        310581.0   \n",
              "5  0034K00000BAy3UQAT       100.0    96.590        903576.0   \n",
              "\n",
              "   Participation Level  Page View Level              Module  \\\n",
              "1                  1.0              3.0  a0R4K000001z16cUAA   \n",
              "2                  3.0              3.0  a0R4K000001z16cUAA   \n",
              "3                  2.0              2.0  a0R4K000001z16cUAA   \n",
              "4                  3.0              2.0  a0R4K000001z16cUAA   \n",
              "5                  2.0              3.0  a0R4K000001z16cUAA   \n",
              "\n",
              "          Next Module  \n",
              "1  a0P4K000001LuzRUAS  \n",
              "2  a0P4K000001LuzTUAS  \n",
              "3  a0P4K000001LuzUUAS  \n",
              "4  a0P4K000001LuzVUAS  \n",
              "5  a0P4K00000122vzUAA  "
            ],
            "text/html": [
              "\n",
              "  <div id=\"df-39c07926-2a2e-4cf1-a79d-150ea9e86557\">\n",
              "    <div class=\"colab-df-container\">\n",
              "      <div>\n",
              "<style scoped>\n",
              "    .dataframe tbody tr th:only-of-type {\n",
              "        vertical-align: middle;\n",
              "    }\n",
              "\n",
              "    .dataframe tbody tr th {\n",
              "        vertical-align: top;\n",
              "    }\n",
              "\n",
              "    .dataframe thead th {\n",
              "        text-align: right;\n",
              "    }\n",
              "</style>\n",
              "<table border=\"1\" class=\"dataframe\">\n",
              "  <thead>\n",
              "    <tr style=\"text-align: right;\">\n",
              "      <th></th>\n",
              "      <th>Student ID</th>\n",
              "      <th>Attendance</th>\n",
              "      <th>IP Grade</th>\n",
              "      <th>Total Activity</th>\n",
              "      <th>Participation Level</th>\n",
              "      <th>Page View Level</th>\n",
              "      <th>Module</th>\n",
              "      <th>Next Module</th>\n",
              "    </tr>\n",
              "  </thead>\n",
              "  <tbody>\n",
              "    <tr>\n",
              "      <th>1</th>\n",
              "      <td>0034K00000BAy34QAD</td>\n",
              "      <td>100.0</td>\n",
              "      <td>88.635</td>\n",
              "      <td>518086.0</td>\n",
              "      <td>1.0</td>\n",
              "      <td>3.0</td>\n",
              "      <td>a0R4K000001z16cUAA</td>\n",
              "      <td>a0P4K000001LuzRUAS</td>\n",
              "    </tr>\n",
              "    <tr>\n",
              "      <th>2</th>\n",
              "      <td>0034K00000B8gO1QAJ</td>\n",
              "      <td>100.0</td>\n",
              "      <td>71.590</td>\n",
              "      <td>219604.0</td>\n",
              "      <td>3.0</td>\n",
              "      <td>3.0</td>\n",
              "      <td>a0R4K000001z16cUAA</td>\n",
              "      <td>a0P4K000001LuzTUAS</td>\n",
              "    </tr>\n",
              "    <tr>\n",
              "      <th>3</th>\n",
              "      <td>0034K00000B8gOhQAJ</td>\n",
              "      <td>100.0</td>\n",
              "      <td>64.770</td>\n",
              "      <td>38278.0</td>\n",
              "      <td>2.0</td>\n",
              "      <td>2.0</td>\n",
              "      <td>a0R4K000001z16cUAA</td>\n",
              "      <td>a0P4K000001LuzUUAS</td>\n",
              "    </tr>\n",
              "    <tr>\n",
              "      <th>4</th>\n",
              "      <td>0034K00000B8gOQQAZ</td>\n",
              "      <td>100.0</td>\n",
              "      <td>81.820</td>\n",
              "      <td>310581.0</td>\n",
              "      <td>3.0</td>\n",
              "      <td>2.0</td>\n",
              "      <td>a0R4K000001z16cUAA</td>\n",
              "      <td>a0P4K000001LuzVUAS</td>\n",
              "    </tr>\n",
              "    <tr>\n",
              "      <th>5</th>\n",
              "      <td>0034K00000BAy3UQAT</td>\n",
              "      <td>100.0</td>\n",
              "      <td>96.590</td>\n",
              "      <td>903576.0</td>\n",
              "      <td>2.0</td>\n",
              "      <td>3.0</td>\n",
              "      <td>a0R4K000001z16cUAA</td>\n",
              "      <td>a0P4K00000122vzUAA</td>\n",
              "    </tr>\n",
              "  </tbody>\n",
              "</table>\n",
              "</div>\n",
              "      <button class=\"colab-df-convert\" onclick=\"convertToInteractive('df-39c07926-2a2e-4cf1-a79d-150ea9e86557')\"\n",
              "              title=\"Convert this dataframe to an interactive table.\"\n",
              "              style=\"display:none;\">\n",
              "        \n",
              "  <svg xmlns=\"http://www.w3.org/2000/svg\" height=\"24px\"viewBox=\"0 0 24 24\"\n",
              "       width=\"24px\">\n",
              "    <path d=\"M0 0h24v24H0V0z\" fill=\"none\"/>\n",
              "    <path d=\"M18.56 5.44l.94 2.06.94-2.06 2.06-.94-2.06-.94-.94-2.06-.94 2.06-2.06.94zm-11 1L8.5 8.5l.94-2.06 2.06-.94-2.06-.94L8.5 2.5l-.94 2.06-2.06.94zm10 10l.94 2.06.94-2.06 2.06-.94-2.06-.94-.94-2.06-.94 2.06-2.06.94z\"/><path d=\"M17.41 7.96l-1.37-1.37c-.4-.4-.92-.59-1.43-.59-.52 0-1.04.2-1.43.59L10.3 9.45l-7.72 7.72c-.78.78-.78 2.05 0 2.83L4 21.41c.39.39.9.59 1.41.59.51 0 1.02-.2 1.41-.59l7.78-7.78 2.81-2.81c.8-.78.8-2.07 0-2.86zM5.41 20L4 18.59l7.72-7.72 1.47 1.35L5.41 20z\"/>\n",
              "  </svg>\n",
              "      </button>\n",
              "      \n",
              "  <style>\n",
              "    .colab-df-container {\n",
              "      display:flex;\n",
              "      flex-wrap:wrap;\n",
              "      gap: 12px;\n",
              "    }\n",
              "\n",
              "    .colab-df-convert {\n",
              "      background-color: #E8F0FE;\n",
              "      border: none;\n",
              "      border-radius: 50%;\n",
              "      cursor: pointer;\n",
              "      display: none;\n",
              "      fill: #1967D2;\n",
              "      height: 32px;\n",
              "      padding: 0 0 0 0;\n",
              "      width: 32px;\n",
              "    }\n",
              "\n",
              "    .colab-df-convert:hover {\n",
              "      background-color: #E2EBFA;\n",
              "      box-shadow: 0px 1px 2px rgba(60, 64, 67, 0.3), 0px 1px 3px 1px rgba(60, 64, 67, 0.15);\n",
              "      fill: #174EA6;\n",
              "    }\n",
              "\n",
              "    [theme=dark] .colab-df-convert {\n",
              "      background-color: #3B4455;\n",
              "      fill: #D2E3FC;\n",
              "    }\n",
              "\n",
              "    [theme=dark] .colab-df-convert:hover {\n",
              "      background-color: #434B5C;\n",
              "      box-shadow: 0px 1px 3px 1px rgba(0, 0, 0, 0.15);\n",
              "      filter: drop-shadow(0px 1px 2px rgba(0, 0, 0, 0.3));\n",
              "      fill: #FFFFFF;\n",
              "    }\n",
              "  </style>\n",
              "\n",
              "      <script>\n",
              "        const buttonEl =\n",
              "          document.querySelector('#df-39c07926-2a2e-4cf1-a79d-150ea9e86557 button.colab-df-convert');\n",
              "        buttonEl.style.display =\n",
              "          google.colab.kernel.accessAllowed ? 'block' : 'none';\n",
              "\n",
              "        async function convertToInteractive(key) {\n",
              "          const element = document.querySelector('#df-39c07926-2a2e-4cf1-a79d-150ea9e86557');\n",
              "          const dataTable =\n",
              "            await google.colab.kernel.invokeFunction('convertToInteractive',\n",
              "                                                     [key], {});\n",
              "          if (!dataTable) return;\n",
              "\n",
              "          const docLinkHtml = 'Like what you see? Visit the ' +\n",
              "            '<a target=\"_blank\" href=https://colab.research.google.com/notebooks/data_table.ipynb>data table notebook</a>'\n",
              "            + ' to learn more about interactive tables.';\n",
              "          element.innerHTML = '';\n",
              "          dataTable['output_type'] = 'display_data';\n",
              "          await google.colab.output.renderOutput(dataTable, element);\n",
              "          const docLink = document.createElement('div');\n",
              "          docLink.innerHTML = docLinkHtml;\n",
              "          element.appendChild(docLink);\n",
              "        }\n",
              "      </script>\n",
              "    </div>\n",
              "  </div>\n",
              "  "
            ]
          },
          "metadata": {},
          "execution_count": 213
        }
      ]
    },
    {
      "cell_type": "markdown",
      "source": [
        "# Question 2.\n",
        "Determine the module-to-module retention rates for each of the modules."
      ],
      "metadata": {
        "id": "C6v-JtqWu5OT"
      }
    },
    {
      "cell_type": "code",
      "source": [
        "import warnings\n",
        "warnings.filterwarnings(\"ignore\")\n",
        "# Calculate module-to-module retention rates\n",
        "def calculate_retention_rate(module):\n",
        "    current_module =module\n",
        "    next_module =module[\"Next Module\"]\n",
        "\n",
        "\n",
        "    current_students_num = len(module[module[\"Module\"]== current_module])\n",
        "\n",
        "    next_students_num = len(module[module[\"Next Module\"]== next_module])\n",
        "\n",
        "\n",
        "    retention_rate = (current_students_num-next_students_num)/current_students_num *100\n",
        "\n",
        "\n",
        "    return f\"Retention rate is {retention_rate:.2f}%\""
      ],
      "metadata": {
        "id": "Nw3C0JOtu7je"
      },
      "execution_count": null,
      "outputs": []
    },
    {
      "cell_type": "code",
      "source": [
        "#lets calculate retention rate for angular module\n",
        "\n",
        "calculate_retention_rate(angular)"
      ],
      "metadata": {
        "colab": {
          "base_uri": "https://localhost:8080/",
          "height": 35
        },
        "id": "js8bqeK-vkfp",
        "outputId": "e214204c-29d4-46b5-8260-ed21edb40d0b"
      },
      "execution_count": null,
      "outputs": [
        {
          "output_type": "execute_result",
          "data": {
            "text/plain": [
              "'Retention rate is 7.04%'"
            ],
            "application/vnd.google.colaboratory.intrinsic+json": {
              "type": "string"
            }
          },
          "metadata": {},
          "execution_count": 241
        }
      ]
    },
    {
      "cell_type": "code",
      "source": [
        "calculate_retention_rate(java)"
      ],
      "metadata": {
        "colab": {
          "base_uri": "https://localhost:8080/",
          "height": 35
        },
        "id": "AdcMyxVawZqs",
        "outputId": "a0cb8631-7d3c-41e8-cd2e-7477e3f27254"
      },
      "execution_count": null,
      "outputs": [
        {
          "output_type": "execute_result",
          "data": {
            "text/plain": [
              "'Retention rate is 0.00'"
            ],
            "application/vnd.google.colaboratory.intrinsic+json": {
              "type": "string"
            }
          },
          "metadata": {},
          "execution_count": 238
        }
      ]
    },
    {
      "cell_type": "code",
      "source": [
        "calculate_retention_rate(intro_to_soft_dev)\n",
        "\n",
        "\n"
      ],
      "metadata": {
        "colab": {
          "base_uri": "https://localhost:8080/",
          "height": 35
        },
        "id": "5aLnsJeBwp7v",
        "outputId": "6d03441b-9cdb-4791-8dc3-4df9b1389ca3"
      },
      "execution_count": null,
      "outputs": [
        {
          "output_type": "execute_result",
          "data": {
            "text/plain": [
              "'Retention rate is 100.00%'"
            ],
            "application/vnd.google.colaboratory.intrinsic+json": {
              "type": "string"
            }
          },
          "metadata": {},
          "execution_count": 242
        }
      ]
    },
    {
      "cell_type": "code",
      "source": [
        "calculate_retention_rate(django)"
      ],
      "metadata": {
        "colab": {
          "base_uri": "https://localhost:8080/",
          "height": 35
        },
        "id": "YuAZ4YAxw7eU",
        "outputId": "37adc1a5-457e-40ae-be79-4c4d1ec5849d"
      },
      "execution_count": null,
      "outputs": [
        {
          "output_type": "execute_result",
          "data": {
            "text/plain": [
              "'Retention rate is 4.88%'"
            ],
            "application/vnd.google.colaboratory.intrinsic+json": {
              "type": "string"
            }
          },
          "metadata": {},
          "execution_count": 243
        }
      ]
    },
    {
      "cell_type": "code",
      "source": [
        "calculate_retention_rate(android)"
      ],
      "metadata": {
        "colab": {
          "base_uri": "https://localhost:8080/",
          "height": 35
        },
        "id": "7EROJbby006v",
        "outputId": "73ab4d40-22d6-4203-bd10-f1edd0014963"
      },
      "execution_count": null,
      "outputs": [
        {
          "output_type": "execute_result",
          "data": {
            "text/plain": [
              "'Retention rate is 6.67%'"
            ],
            "application/vnd.google.colaboratory.intrinsic+json": {
              "type": "string"
            }
          },
          "metadata": {},
          "execution_count": 244
        }
      ]
    },
    {
      "cell_type": "code",
      "source": [
        "calculate_retention_rate(python_flask)"
      ],
      "metadata": {
        "colab": {
          "base_uri": "https://localhost:8080/",
          "height": 35
        },
        "id": "otWFVUQT1Bby",
        "outputId": "9a0ddeb1-867e-4df2-e538-3dcb0913139d"
      },
      "execution_count": null,
      "outputs": [
        {
          "output_type": "execute_result",
          "data": {
            "text/plain": [
              "'Retention rate is 0.00%'"
            ],
            "application/vnd.google.colaboratory.intrinsic+json": {
              "type": "string"
            }
          },
          "metadata": {},
          "execution_count": 246
        }
      ]
    },
    {
      "cell_type": "markdown",
      "source": [
        "#Question 3.\n",
        "Which of the metrics above is most correlated to the module-to-module retention rate? List them\n",
        "in order of most to least correlated."
      ],
      "metadata": {
        "id": "xCvylOSY1gHM"
      }
    },
    {
      "cell_type": "code",
      "source": [
        "angular.corr()"
      ],
      "metadata": {
        "colab": {
          "base_uri": "https://localhost:8080/",
          "height": 206
        },
        "id": "wODomnf01jV_",
        "outputId": "fefe3414-e0f9-44a2-c7d4-f5c80f291bfe"
      },
      "execution_count": null,
      "outputs": [
        {
          "output_type": "execute_result",
          "data": {
            "text/plain": [
              "                     Attendance  IP Grade  Total Activity  \\\n",
              "Attendance                  NaN       NaN             NaN   \n",
              "IP Grade                    NaN  1.000000        0.209977   \n",
              "Total Activity              NaN  0.209977        1.000000   \n",
              "Participation Level         NaN  0.432638        0.060467   \n",
              "Page View Level             NaN  0.439423        0.464855   \n",
              "\n",
              "                     Participation Level  Page View Level  \n",
              "Attendance                           NaN              NaN  \n",
              "IP Grade                        0.432638         0.439423  \n",
              "Total Activity                  0.060467         0.464855  \n",
              "Participation Level             1.000000         0.337701  \n",
              "Page View Level                 0.337701         1.000000  "
            ],
            "text/html": [
              "\n",
              "  <div id=\"df-5cfb69be-a357-4987-8d41-3452460fd59e\">\n",
              "    <div class=\"colab-df-container\">\n",
              "      <div>\n",
              "<style scoped>\n",
              "    .dataframe tbody tr th:only-of-type {\n",
              "        vertical-align: middle;\n",
              "    }\n",
              "\n",
              "    .dataframe tbody tr th {\n",
              "        vertical-align: top;\n",
              "    }\n",
              "\n",
              "    .dataframe thead th {\n",
              "        text-align: right;\n",
              "    }\n",
              "</style>\n",
              "<table border=\"1\" class=\"dataframe\">\n",
              "  <thead>\n",
              "    <tr style=\"text-align: right;\">\n",
              "      <th></th>\n",
              "      <th>Attendance</th>\n",
              "      <th>IP Grade</th>\n",
              "      <th>Total Activity</th>\n",
              "      <th>Participation Level</th>\n",
              "      <th>Page View Level</th>\n",
              "    </tr>\n",
              "  </thead>\n",
              "  <tbody>\n",
              "    <tr>\n",
              "      <th>Attendance</th>\n",
              "      <td>NaN</td>\n",
              "      <td>NaN</td>\n",
              "      <td>NaN</td>\n",
              "      <td>NaN</td>\n",
              "      <td>NaN</td>\n",
              "    </tr>\n",
              "    <tr>\n",
              "      <th>IP Grade</th>\n",
              "      <td>NaN</td>\n",
              "      <td>1.000000</td>\n",
              "      <td>0.209977</td>\n",
              "      <td>0.432638</td>\n",
              "      <td>0.439423</td>\n",
              "    </tr>\n",
              "    <tr>\n",
              "      <th>Total Activity</th>\n",
              "      <td>NaN</td>\n",
              "      <td>0.209977</td>\n",
              "      <td>1.000000</td>\n",
              "      <td>0.060467</td>\n",
              "      <td>0.464855</td>\n",
              "    </tr>\n",
              "    <tr>\n",
              "      <th>Participation Level</th>\n",
              "      <td>NaN</td>\n",
              "      <td>0.432638</td>\n",
              "      <td>0.060467</td>\n",
              "      <td>1.000000</td>\n",
              "      <td>0.337701</td>\n",
              "    </tr>\n",
              "    <tr>\n",
              "      <th>Page View Level</th>\n",
              "      <td>NaN</td>\n",
              "      <td>0.439423</td>\n",
              "      <td>0.464855</td>\n",
              "      <td>0.337701</td>\n",
              "      <td>1.000000</td>\n",
              "    </tr>\n",
              "  </tbody>\n",
              "</table>\n",
              "</div>\n",
              "      <button class=\"colab-df-convert\" onclick=\"convertToInteractive('df-5cfb69be-a357-4987-8d41-3452460fd59e')\"\n",
              "              title=\"Convert this dataframe to an interactive table.\"\n",
              "              style=\"display:none;\">\n",
              "        \n",
              "  <svg xmlns=\"http://www.w3.org/2000/svg\" height=\"24px\"viewBox=\"0 0 24 24\"\n",
              "       width=\"24px\">\n",
              "    <path d=\"M0 0h24v24H0V0z\" fill=\"none\"/>\n",
              "    <path d=\"M18.56 5.44l.94 2.06.94-2.06 2.06-.94-2.06-.94-.94-2.06-.94 2.06-2.06.94zm-11 1L8.5 8.5l.94-2.06 2.06-.94-2.06-.94L8.5 2.5l-.94 2.06-2.06.94zm10 10l.94 2.06.94-2.06 2.06-.94-2.06-.94-.94-2.06-.94 2.06-2.06.94z\"/><path d=\"M17.41 7.96l-1.37-1.37c-.4-.4-.92-.59-1.43-.59-.52 0-1.04.2-1.43.59L10.3 9.45l-7.72 7.72c-.78.78-.78 2.05 0 2.83L4 21.41c.39.39.9.59 1.41.59.51 0 1.02-.2 1.41-.59l7.78-7.78 2.81-2.81c.8-.78.8-2.07 0-2.86zM5.41 20L4 18.59l7.72-7.72 1.47 1.35L5.41 20z\"/>\n",
              "  </svg>\n",
              "      </button>\n",
              "      \n",
              "  <style>\n",
              "    .colab-df-container {\n",
              "      display:flex;\n",
              "      flex-wrap:wrap;\n",
              "      gap: 12px;\n",
              "    }\n",
              "\n",
              "    .colab-df-convert {\n",
              "      background-color: #E8F0FE;\n",
              "      border: none;\n",
              "      border-radius: 50%;\n",
              "      cursor: pointer;\n",
              "      display: none;\n",
              "      fill: #1967D2;\n",
              "      height: 32px;\n",
              "      padding: 0 0 0 0;\n",
              "      width: 32px;\n",
              "    }\n",
              "\n",
              "    .colab-df-convert:hover {\n",
              "      background-color: #E2EBFA;\n",
              "      box-shadow: 0px 1px 2px rgba(60, 64, 67, 0.3), 0px 1px 3px 1px rgba(60, 64, 67, 0.15);\n",
              "      fill: #174EA6;\n",
              "    }\n",
              "\n",
              "    [theme=dark] .colab-df-convert {\n",
              "      background-color: #3B4455;\n",
              "      fill: #D2E3FC;\n",
              "    }\n",
              "\n",
              "    [theme=dark] .colab-df-convert:hover {\n",
              "      background-color: #434B5C;\n",
              "      box-shadow: 0px 1px 3px 1px rgba(0, 0, 0, 0.15);\n",
              "      filter: drop-shadow(0px 1px 2px rgba(0, 0, 0, 0.3));\n",
              "      fill: #FFFFFF;\n",
              "    }\n",
              "  </style>\n",
              "\n",
              "      <script>\n",
              "        const buttonEl =\n",
              "          document.querySelector('#df-5cfb69be-a357-4987-8d41-3452460fd59e button.colab-df-convert');\n",
              "        buttonEl.style.display =\n",
              "          google.colab.kernel.accessAllowed ? 'block' : 'none';\n",
              "\n",
              "        async function convertToInteractive(key) {\n",
              "          const element = document.querySelector('#df-5cfb69be-a357-4987-8d41-3452460fd59e');\n",
              "          const dataTable =\n",
              "            await google.colab.kernel.invokeFunction('convertToInteractive',\n",
              "                                                     [key], {});\n",
              "          if (!dataTable) return;\n",
              "\n",
              "          const docLinkHtml = 'Like what you see? Visit the ' +\n",
              "            '<a target=\"_blank\" href=https://colab.research.google.com/notebooks/data_table.ipynb>data table notebook</a>'\n",
              "            + ' to learn more about interactive tables.';\n",
              "          element.innerHTML = '';\n",
              "          dataTable['output_type'] = 'display_data';\n",
              "          await google.colab.output.renderOutput(dataTable, element);\n",
              "          const docLink = document.createElement('div');\n",
              "          docLink.innerHTML = docLinkHtml;\n",
              "          element.appendChild(docLink);\n",
              "        }\n",
              "      </script>\n",
              "    </div>\n",
              "  </div>\n",
              "  "
            ]
          },
          "metadata": {},
          "execution_count": 248
        }
      ]
    },
    {
      "cell_type": "code",
      "source": [
        "angular.info()"
      ],
      "metadata": {
        "colab": {
          "base_uri": "https://localhost:8080/"
        },
        "id": "fXCGwknS15Q6",
        "outputId": "cef21df1-f5db-44f9-dab4-ff860b6f3cc2"
      },
      "execution_count": null,
      "outputs": [
        {
          "output_type": "stream",
          "name": "stdout",
          "text": [
            "<class 'pandas.core.frame.DataFrame'>\n",
            "Int64Index: 71 entries, 1 to 76\n",
            "Data columns (total 8 columns):\n",
            " #   Column               Non-Null Count  Dtype  \n",
            "---  ------               --------------  -----  \n",
            " 0   Student ID           71 non-null     object \n",
            " 1   Attendance           71 non-null     float64\n",
            " 2   IP Grade             71 non-null     float64\n",
            " 3   Total Activity       71 non-null     float64\n",
            " 4   Participation Level  71 non-null     float64\n",
            " 5   Page View Level      71 non-null     float64\n",
            " 6   Module               71 non-null     object \n",
            " 7   Next Module          66 non-null     object \n",
            "dtypes: float64(5), object(3)\n",
            "memory usage: 7.0+ KB\n"
          ]
        }
      ]
    },
    {
      "cell_type": "code",
      "source": [
        "angular.head()"
      ],
      "metadata": {
        "colab": {
          "base_uri": "https://localhost:8080/",
          "height": 250
        },
        "id": "d-URSkxR2CiL",
        "outputId": "7392bb6b-fd80-4db3-bf35-2436ad7b4c5f"
      },
      "execution_count": null,
      "outputs": [
        {
          "output_type": "execute_result",
          "data": {
            "text/plain": [
              "           Student ID  Attendance  IP Grade  Total Activity  \\\n",
              "1  0034K00000BAy34QAD       100.0    88.635        518086.0   \n",
              "2  0034K00000B8gO1QAJ       100.0    71.590        219604.0   \n",
              "3  0034K00000B8gOhQAJ       100.0    64.770         38278.0   \n",
              "4  0034K00000B8gOQQAZ       100.0    81.820        310581.0   \n",
              "5  0034K00000BAy3UQAT       100.0    96.590        903576.0   \n",
              "\n",
              "   Participation Level  Page View Level              Module  \\\n",
              "1                  1.0              3.0  a0R4K000001z16cUAA   \n",
              "2                  3.0              3.0  a0R4K000001z16cUAA   \n",
              "3                  2.0              2.0  a0R4K000001z16cUAA   \n",
              "4                  3.0              2.0  a0R4K000001z16cUAA   \n",
              "5                  2.0              3.0  a0R4K000001z16cUAA   \n",
              "\n",
              "          Next Module  \n",
              "1  a0P4K000001LuzRUAS  \n",
              "2  a0P4K000001LuzTUAS  \n",
              "3  a0P4K000001LuzUUAS  \n",
              "4  a0P4K000001LuzVUAS  \n",
              "5  a0P4K00000122vzUAA  "
            ],
            "text/html": [
              "\n",
              "  <div id=\"df-ef31a288-a814-4405-b199-4817d4a80935\">\n",
              "    <div class=\"colab-df-container\">\n",
              "      <div>\n",
              "<style scoped>\n",
              "    .dataframe tbody tr th:only-of-type {\n",
              "        vertical-align: middle;\n",
              "    }\n",
              "\n",
              "    .dataframe tbody tr th {\n",
              "        vertical-align: top;\n",
              "    }\n",
              "\n",
              "    .dataframe thead th {\n",
              "        text-align: right;\n",
              "    }\n",
              "</style>\n",
              "<table border=\"1\" class=\"dataframe\">\n",
              "  <thead>\n",
              "    <tr style=\"text-align: right;\">\n",
              "      <th></th>\n",
              "      <th>Student ID</th>\n",
              "      <th>Attendance</th>\n",
              "      <th>IP Grade</th>\n",
              "      <th>Total Activity</th>\n",
              "      <th>Participation Level</th>\n",
              "      <th>Page View Level</th>\n",
              "      <th>Module</th>\n",
              "      <th>Next Module</th>\n",
              "    </tr>\n",
              "  </thead>\n",
              "  <tbody>\n",
              "    <tr>\n",
              "      <th>1</th>\n",
              "      <td>0034K00000BAy34QAD</td>\n",
              "      <td>100.0</td>\n",
              "      <td>88.635</td>\n",
              "      <td>518086.0</td>\n",
              "      <td>1.0</td>\n",
              "      <td>3.0</td>\n",
              "      <td>a0R4K000001z16cUAA</td>\n",
              "      <td>a0P4K000001LuzRUAS</td>\n",
              "    </tr>\n",
              "    <tr>\n",
              "      <th>2</th>\n",
              "      <td>0034K00000B8gO1QAJ</td>\n",
              "      <td>100.0</td>\n",
              "      <td>71.590</td>\n",
              "      <td>219604.0</td>\n",
              "      <td>3.0</td>\n",
              "      <td>3.0</td>\n",
              "      <td>a0R4K000001z16cUAA</td>\n",
              "      <td>a0P4K000001LuzTUAS</td>\n",
              "    </tr>\n",
              "    <tr>\n",
              "      <th>3</th>\n",
              "      <td>0034K00000B8gOhQAJ</td>\n",
              "      <td>100.0</td>\n",
              "      <td>64.770</td>\n",
              "      <td>38278.0</td>\n",
              "      <td>2.0</td>\n",
              "      <td>2.0</td>\n",
              "      <td>a0R4K000001z16cUAA</td>\n",
              "      <td>a0P4K000001LuzUUAS</td>\n",
              "    </tr>\n",
              "    <tr>\n",
              "      <th>4</th>\n",
              "      <td>0034K00000B8gOQQAZ</td>\n",
              "      <td>100.0</td>\n",
              "      <td>81.820</td>\n",
              "      <td>310581.0</td>\n",
              "      <td>3.0</td>\n",
              "      <td>2.0</td>\n",
              "      <td>a0R4K000001z16cUAA</td>\n",
              "      <td>a0P4K000001LuzVUAS</td>\n",
              "    </tr>\n",
              "    <tr>\n",
              "      <th>5</th>\n",
              "      <td>0034K00000BAy3UQAT</td>\n",
              "      <td>100.0</td>\n",
              "      <td>96.590</td>\n",
              "      <td>903576.0</td>\n",
              "      <td>2.0</td>\n",
              "      <td>3.0</td>\n",
              "      <td>a0R4K000001z16cUAA</td>\n",
              "      <td>a0P4K00000122vzUAA</td>\n",
              "    </tr>\n",
              "  </tbody>\n",
              "</table>\n",
              "</div>\n",
              "      <button class=\"colab-df-convert\" onclick=\"convertToInteractive('df-ef31a288-a814-4405-b199-4817d4a80935')\"\n",
              "              title=\"Convert this dataframe to an interactive table.\"\n",
              "              style=\"display:none;\">\n",
              "        \n",
              "  <svg xmlns=\"http://www.w3.org/2000/svg\" height=\"24px\"viewBox=\"0 0 24 24\"\n",
              "       width=\"24px\">\n",
              "    <path d=\"M0 0h24v24H0V0z\" fill=\"none\"/>\n",
              "    <path d=\"M18.56 5.44l.94 2.06.94-2.06 2.06-.94-2.06-.94-.94-2.06-.94 2.06-2.06.94zm-11 1L8.5 8.5l.94-2.06 2.06-.94-2.06-.94L8.5 2.5l-.94 2.06-2.06.94zm10 10l.94 2.06.94-2.06 2.06-.94-2.06-.94-.94-2.06-.94 2.06-2.06.94z\"/><path d=\"M17.41 7.96l-1.37-1.37c-.4-.4-.92-.59-1.43-.59-.52 0-1.04.2-1.43.59L10.3 9.45l-7.72 7.72c-.78.78-.78 2.05 0 2.83L4 21.41c.39.39.9.59 1.41.59.51 0 1.02-.2 1.41-.59l7.78-7.78 2.81-2.81c.8-.78.8-2.07 0-2.86zM5.41 20L4 18.59l7.72-7.72 1.47 1.35L5.41 20z\"/>\n",
              "  </svg>\n",
              "      </button>\n",
              "      \n",
              "  <style>\n",
              "    .colab-df-container {\n",
              "      display:flex;\n",
              "      flex-wrap:wrap;\n",
              "      gap: 12px;\n",
              "    }\n",
              "\n",
              "    .colab-df-convert {\n",
              "      background-color: #E8F0FE;\n",
              "      border: none;\n",
              "      border-radius: 50%;\n",
              "      cursor: pointer;\n",
              "      display: none;\n",
              "      fill: #1967D2;\n",
              "      height: 32px;\n",
              "      padding: 0 0 0 0;\n",
              "      width: 32px;\n",
              "    }\n",
              "\n",
              "    .colab-df-convert:hover {\n",
              "      background-color: #E2EBFA;\n",
              "      box-shadow: 0px 1px 2px rgba(60, 64, 67, 0.3), 0px 1px 3px 1px rgba(60, 64, 67, 0.15);\n",
              "      fill: #174EA6;\n",
              "    }\n",
              "\n",
              "    [theme=dark] .colab-df-convert {\n",
              "      background-color: #3B4455;\n",
              "      fill: #D2E3FC;\n",
              "    }\n",
              "\n",
              "    [theme=dark] .colab-df-convert:hover {\n",
              "      background-color: #434B5C;\n",
              "      box-shadow: 0px 1px 3px 1px rgba(0, 0, 0, 0.15);\n",
              "      filter: drop-shadow(0px 1px 2px rgba(0, 0, 0, 0.3));\n",
              "      fill: #FFFFFF;\n",
              "    }\n",
              "  </style>\n",
              "\n",
              "      <script>\n",
              "        const buttonEl =\n",
              "          document.querySelector('#df-ef31a288-a814-4405-b199-4817d4a80935 button.colab-df-convert');\n",
              "        buttonEl.style.display =\n",
              "          google.colab.kernel.accessAllowed ? 'block' : 'none';\n",
              "\n",
              "        async function convertToInteractive(key) {\n",
              "          const element = document.querySelector('#df-ef31a288-a814-4405-b199-4817d4a80935');\n",
              "          const dataTable =\n",
              "            await google.colab.kernel.invokeFunction('convertToInteractive',\n",
              "                                                     [key], {});\n",
              "          if (!dataTable) return;\n",
              "\n",
              "          const docLinkHtml = 'Like what you see? Visit the ' +\n",
              "            '<a target=\"_blank\" href=https://colab.research.google.com/notebooks/data_table.ipynb>data table notebook</a>'\n",
              "            + ' to learn more about interactive tables.';\n",
              "          element.innerHTML = '';\n",
              "          dataTable['output_type'] = 'display_data';\n",
              "          await google.colab.output.renderOutput(dataTable, element);\n",
              "          const docLink = document.createElement('div');\n",
              "          docLink.innerHTML = docLinkHtml;\n",
              "          element.appendChild(docLink);\n",
              "        }\n",
              "      </script>\n",
              "    </div>\n",
              "  </div>\n",
              "  "
            ]
          },
          "metadata": {},
          "execution_count": 250
        }
      ]
    },
    {
      "cell_type": "code",
      "source": [
        "angular.columns"
      ],
      "metadata": {
        "colab": {
          "base_uri": "https://localhost:8080/"
        },
        "id": "uBIFC_R_3ez6",
        "outputId": "4431ebd8-4afb-4745-c9c6-f64bd01465cb"
      },
      "execution_count": null,
      "outputs": [
        {
          "output_type": "execute_result",
          "data": {
            "text/plain": [
              "Index(['Student ID', 'Attendance', 'IP Grade', 'Total Activity',\n",
              "       'Participation Level', 'Page View Level', 'Module', 'Next Module'],\n",
              "      dtype='object')"
            ]
          },
          "metadata": {},
          "execution_count": 255
        }
      ]
    },
    {
      "cell_type": "code",
      "source": [
        "sns.heatmap(angular.corr(), annot=True, cmap=\"coolwarm\")"
      ],
      "metadata": {
        "colab": {
          "base_uri": "https://localhost:8080/",
          "height": 566
        },
        "id": "217UzKLS4CHE",
        "outputId": "0c756705-cb56-4d63-b06e-657b1b630981"
      },
      "execution_count": null,
      "outputs": [
        {
          "output_type": "execute_result",
          "data": {
            "text/plain": [
              "<Axes: >"
            ]
          },
          "metadata": {},
          "execution_count": 258
        },
        {
          "output_type": "display_data",
          "data": {
            "text/plain": [
              "<Figure size 640x480 with 2 Axes>"
            ],
            "image/png": "[encoded data removed]"
          },
          "metadata": {}
        }
      ]
    },
    {
      "cell_type": "code",
      "source": [
        "angular_correlations = angular.corr()\n",
        "\n",
        "angular_correlations.sort_values(\"IP Grade\", ascending=False).plot(kind=\"bar\")"
      ],
      "metadata": {
        "colab": {
          "base_uri": "https://localhost:8080/",
          "height": 561
        },
        "id": "cWp7wp6l2VQ9",
        "outputId": "24ce59ff-8cfb-42ce-9984-4cf9ee4a691e"
      },
      "execution_count": null,
      "outputs": [
        {
          "output_type": "execute_result",
          "data": {
            "text/plain": [
              "<Axes: >"
            ]
          },
          "metadata": {},
          "execution_count": 259
        },
        {
          "output_type": "display_data",
          "data": {
            "text/plain": [
              "<Figure size 640x480 with 1 Axes>"
            ],
            "image/png": "[encoded data removed]"
          },
          "metadata": {}
        }
      ]
    },
    {
      "cell_type": "markdown",
      "source": [
        "# Question 4.\n",
        "If Moringa had to pick 2 metrics out of the above listed ones to help improve module-to-module\n",
        "retention, which should we pick and why?"
      ],
      "metadata": {
        "id": "EEA8fbNC52yF"
      }
    },
    {
      "cell_type": "markdown",
      "source": [
        "Page View Level and IP Grade are the best metrics since they are consistently correlated with other features."
      ],
      "metadata": {
        "id": "uDnjHxjb5gJ6"
      }
    },
    {
      "cell_type": "code",
      "source": [],
      "metadata": {
        "id": "b3GtDLR_5sHE"
      },
      "execution_count": null,
      "outputs": []
    },
    {
      "cell_type": "markdown",
      "source": [
        "# Question 5.\n",
        "What other metrics, in your opinion, do you think Moringa should be measuring to better predict\n",
        "our module-to-module retention and why?"
      ],
      "metadata": {
        "id": "PMPlSFb959DW"
      }
    },
    {
      "cell_type": "markdown",
      "source": [
        " Assessment quizes in the learning material: How students perfom in the mini quizzes in the various modules.\n",
        "\n",
        " Location : The students location, if a students lives in a remote enviornment they are more prone to having perfomance issues compared to those in well internet oriented environments hence their retention rates."
      ],
      "metadata": {
        "id": "OQvqJCu86MmV"
      }
    }
  ]
}